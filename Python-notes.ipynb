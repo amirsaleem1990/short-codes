{
 "cells": [
  {
   "cell_type": "code",
   "execution_count": 23,
   "id": "e9fb537e",
   "metadata": {},
   "outputs": [],
   "source": [
    "# https://www.youtube.com/playlist?list=PLqnslRFeH2UqLwzS0AwKDKLrpYBKzLBy2"
   ]
  },
  {
   "cell_type": "markdown",
   "id": "5eead7fc",
   "metadata": {},
   "source": [
    "# map"
   ]
  },
  {
   "cell_type": "code",
   "execution_count": 38,
   "id": "ad4eb72c",
   "metadata": {},
   "outputs": [
    {
     "name": "stdout",
     "output_type": "stream",
     "text": [
      "['a_', 'm_', 'i_', 'r_']\n",
      "['a_', 'm_', 'i_', 'r_']\n",
      "['A', 'M', 'I', 'R']\n"
     ]
    }
   ],
   "source": [
    "a = list(\"amir\")\n",
    "def f(v):\n",
    "    return v+\"_\"\n",
    "print(list(map(lambda x:x+\"_\", a)))\n",
    "print(list(map(f, a)))\n",
    "print(list(map(str.upper, a)))"
   ]
  },
  {
   "cell_type": "code",
   "execution_count": 125,
   "id": "7ff3ca9f",
   "metadata": {},
   "outputs": [
    {
     "name": "stdout",
     "output_type": "stream",
     "text": [
      "[1, 2, 3, 4, 5]\n"
     ]
    },
    {
     "data": {
      "text/plain": [
       "[2, 4, 6, 8, 10]"
      ]
     },
     "execution_count": 125,
     "metadata": {},
     "output_type": "execute_result"
    }
   ],
   "source": [
    "# Square each element \n",
    "x = [1, 2, 3, 4, 5]\n",
    "print(x)\n",
    "list(map(lambda x:x*2, x))"
   ]
  },
  {
   "cell_type": "markdown",
   "id": "d0c96df1",
   "metadata": {},
   "source": [
    "# filter"
   ]
  },
  {
   "cell_type": "code",
   "execution_count": 40,
   "id": "2dc30b4d",
   "metadata": {},
   "outputs": [
    {
     "name": "stdout",
     "output_type": "stream",
     "text": [
      "[18, 19, 20, 21, 22]\n",
      "[18, 19, 20, 21, 22]\n"
     ]
    }
   ],
   "source": [
    "# we have 2 peramters in filter, func: must return True/False, and sequance: an iterable\n",
    "def f2(x):\n",
    "    return x if x > 17 else None\n",
    "\n",
    "a = list(range(11, 23))\n",
    "print(a)\n",
    "print()\n",
    "print(list(filter(lambda x:x>17, a)))\n",
    "print(list(filter(f2, a)))"
   ]
  },
  {
   "cell_type": "markdown",
   "id": "cd693965",
   "metadata": {},
   "source": [
    "# reduce"
   ]
  },
  {
   "cell_type": "code",
   "execution_count": 134,
   "id": "5219949f",
   "metadata": {},
   "outputs": [
    {
     "name": "stdout",
     "output_type": "stream",
     "text": [
      "15\n"
     ]
    }
   ],
   "source": [
    "from functools import reduce\n",
    "\"\"\"\n",
    "Apply a function of two arguments cumulatively to the items of a sequence,\n",
    "from left to right, so as to reduce the sequence to a single value.\n",
    "For example, reduce(lambda x, y: x+y, [1, 2, 3, 4, 5]) calculates\n",
    "((((1+2)+3)+4)+5).\n",
    "\"\"\"\n",
    "a = [1,2,3,4,5]\n",
    "print(reduce(lambda x,y: x+y, a))\n",
    "# the same result we can get using itertools.accumulate, but that is more computatinol expensive\n",
    "# list(itertools.accumulate(a))[-1]"
   ]
  },
  {
   "cell_type": "markdown",
   "id": "363553d3",
   "metadata": {},
   "source": [
    "# dictionary nice print"
   ]
  },
  {
   "cell_type": "code",
   "execution_count": 42,
   "id": "328db493",
   "metadata": {},
   "outputs": [
    {
     "data": {
      "text/plain": [
       "{'a': 0, 'm': 1, 'i': 2, 'r': 3}"
      ]
     },
     "execution_count": 42,
     "metadata": {},
     "output_type": "execute_result"
    }
   ],
   "source": [
    "d = dict(zip(list(\"amir\"), list(range(4))))\n",
    "d"
   ]
  },
  {
   "cell_type": "code",
   "execution_count": 37,
   "id": "2e1802e3",
   "metadata": {},
   "outputs": [
    {
     "name": "stdout",
     "output_type": "stream",
     "text": [
      "{\n",
      "   \"a\": 0,\n",
      "   \"m\": 1,\n",
      "   \"i\": 2,\n",
      "   \"r\": 3\n",
      "}\n"
     ]
    }
   ],
   "source": [
    "import json\n",
    "print(json.dumps(d, indent=3))"
   ]
  },
  {
   "cell_type": "markdown",
   "id": "068272f3",
   "metadata": {},
   "source": [
    "# useing dict for params in requests module"
   ]
  },
  {
   "cell_type": "code",
   "execution_count": 47,
   "id": "bca304c8",
   "metadata": {},
   "outputs": [
    {
     "name": "stdout",
     "output_type": "stream",
     "text": [
      "True\n"
     ]
    }
   ],
   "source": [
    "import requests\n",
    "a = requests.get(\"https://api.datamuse.com/words?rel_rhy=funny\").text\n",
    "\n",
    "params = {\"rel_rhy\" : \"funny\"}\n",
    "b = requests.get(\"https://api.datamuse.com/words\", params=params).text\n",
    "\n",
    "print(a == b)"
   ]
  },
  {
   "cell_type": "code",
   "execution_count": 48,
   "id": "1e5685a9",
   "metadata": {},
   "outputs": [
    {
     "data": {
      "text/plain": [
       "'[{\"word\":\"money\",\"score\":4415,\"numSyllables\":2},{\"word\":\"honey\",\"score\":1206,\"numSyllables\":2},{\"word\":\"sunny\",\"score\":717,\"numSyllables\":2},{\"word\":\"bunny\",\"score\":702,\"numSyllables\":2},{\"word\":\"blini\",\"score\":613,\"numSyllables\":2},{\"word\":\"gunny\",\"score\":449,\"numSyllables\":2},{\"word\":\"tunny\",\"score\":301,\"numSyllables\":2},{\"word\":\"sonny\",\"score\":286,\"numSyllables\":2},{\"word\":\"dunny\",\"score\":245,\"numSyllables\":2},{\"word\":\"runny\",\"score\":225,\"numSyllables\":2},{\"word\":\"thunny\",\"score\":222,\"numSyllables\":2},{\"word\":\"aknee\",\"score\":179,\"numSyllables\":2},{\"word\":\"squinny\",\"score\":170,\"numSyllables\":2},{\"word\":\"fiat money\",\"score\":160,\"numSyllables\":4},{\"word\":\"gunnie\",\"score\":156,\"numSyllables\":2},{\"word\":\"blood money\",\"score\":152,\"numSyllables\":3},{\"word\":\"squiny\",\"score\":151,\"numSyllables\":2},{\"word\":\"tunney\",\"score\":119,\"numSyllables\":2},{\"word\":\"spinny\",\"score\":117,\"numSyllables\":2},{\"word\":\"pin money\",\"score\":107,\"numSyllables\":3},{\"word\":\"easy money\",\"score\":66,\"numSyllables\":4},{\"word\":\"smart money\",\"score\":66,\"numSyllables\":3},{\"word\":\"earnest money\",\"score\":62,\"numSyllables\":4},{\"word\":\"easter bunny\",\"score\":56,\"numSyllables\":4},{\"word\":\"paper money\",\"score\":54,\"numSyllables\":4},{\"word\":\"pocket money\",\"score\":47,\"numSyllables\":4},{\"word\":\"folding money\",\"score\":46,\"numSyllables\":4},{\"word\":\"conscience money\",\"score\":41,\"numSyllables\":4},{\"word\":\"hush money\",\"score\":40,\"numSyllables\":3},{\"word\":\"prize money\",\"score\":37,\"numSyllables\":3},{\"word\":\"amount of money\",\"score\":33,\"numSyllables\":5},{\"word\":\"for love or money\",\"score\":32,\"numSyllables\":5},{\"word\":\"tight money\",\"score\":32,\"numSyllables\":3},{\"word\":\"ship money\",\"score\":30,\"numSyllables\":3},{\"word\":\"metal money\",\"score\":27,\"numSyllables\":4},{\"word\":\"sum of money\",\"score\":23,\"numSyllables\":4},{\"word\":\"entrance money\",\"score\":22,\"numSyllables\":4},{\"word\":\"cheap money\",\"score\":21,\"numSyllables\":3},{\"word\":\"spending money\",\"score\":21,\"numSyllables\":4},{\"word\":\"token money\",\"score\":21,\"numSyllables\":4},{\"word\":\"waste of money\",\"score\":19,\"numSyllables\":4},{\"word\":\"ransom money\",\"score\":18,\"numSyllables\":4},{\"word\":\"hearth money\",\"score\":14,\"numSyllables\":3},{\"word\":\"munni\",\"score\":14,\"numSyllables\":2},{\"word\":\"bunnie\",\"score\":2,\"numSyllables\":2},{\"word\":\"euromoney\",\"score\":2,\"numSyllables\":4},{\"word\":\"smartmoney\",\"score\":2,\"numSyllables\":3},{\"word\":\"anyone he\",\"numSyllables\":4},{\"word\":\"begun he\",\"numSyllables\":3},{\"word\":\"bunney\",\"numSyllables\":2},{\"word\":\"ca ne\",\"numSyllables\":2},{\"word\":\"done he\",\"numSyllables\":2},{\"word\":\"donne e\",\"numSyllables\":2},{\"word\":\"everyone he\",\"numSyllables\":4},{\"word\":\"fun he\",\"numSyllables\":2},{\"word\":\"grandson he\",\"numSyllables\":3},{\"word\":\"gun he\",\"numSyllables\":2},{\"word\":\"handgun he\",\"numSyllables\":3},{\"word\":\"kun hee\",\"numSyllables\":2},{\"word\":\"le ne\",\"numSyllables\":2},{\"word\":\"lunney\",\"numSyllables\":2},{\"word\":\"lunny\",\"numSyllables\":2},{\"word\":\"none e\",\"numSyllables\":2},{\"word\":\"none he\",\"numSyllables\":2},{\"word\":\"nun he\",\"numSyllables\":2},{\"word\":\"one he\",\"numSyllables\":2},{\"word\":\"one knee\",\"numSyllables\":2},{\"word\":\"pun he\",\"numSyllables\":2},{\"word\":\"run e\",\"numSyllables\":2},{\"word\":\"run he\",\"numSyllables\":2},{\"word\":\"shotgun he\",\"numSyllables\":3},{\"word\":\"someone e\",\"numSyllables\":3},{\"word\":\"someone he\",\"numSyllables\":3},{\"word\":\"son e\",\"numSyllables\":2},{\"word\":\"son he\",\"numSyllables\":2},{\"word\":\"sun e\",\"numSyllables\":2},{\"word\":\"sun he\",\"numSyllables\":2},{\"word\":\"ton he\",\"numSyllables\":2},{\"word\":\"ton ne\",\"numSyllables\":2},{\"word\":\"un e\",\"numSyllables\":2},{\"word\":\"un he\",\"numSyllables\":2},{\"word\":\"un ne\",\"numSyllables\":2},{\"word\":\"un ni\",\"numSyllables\":2},{\"word\":\"won he\",\"numSyllables\":2}]'"
      ]
     },
     "execution_count": 48,
     "metadata": {},
     "output_type": "execute_result"
    }
   ],
   "source": [
    "a"
   ]
  },
  {
   "cell_type": "markdown",
   "id": "f1544c2e",
   "metadata": {},
   "source": [
    "# reverse"
   ]
  },
  {
   "cell_type": "code",
   "execution_count": 51,
   "id": "a366ef26",
   "metadata": {},
   "outputs": [
    {
     "name": "stdout",
     "output_type": "stream",
     "text": [
      "['r', 'i', 'm', 'a']\n",
      "rima\n"
     ]
    }
   ],
   "source": [
    "x = list(\"amir\")\n",
    "\n",
    "print(x[::-1])\n",
    "print(\"amir\"[::-1])"
   ]
  },
  {
   "cell_type": "markdown",
   "id": "cc7d73ad",
   "metadata": {},
   "source": [
    "# COPY"
   ]
  },
  {
   "cell_type": "code",
   "execution_count": 57,
   "id": "e173f007",
   "metadata": {},
   "outputs": [
    {
     "name": "stdout",
     "output_type": "stream",
     "text": [
      "l0 >> 139667791673544\n",
      "l1 >> 139667791673544\n",
      "l2 >> 139667787465800\n",
      "l3 >> 139667787515208\n"
     ]
    }
   ],
   "source": [
    "l0 = list(\"amir\")\n",
    "l1 = l0        # be cautious !!!!!!!!\n",
    "l2 = list(l0)\n",
    "l2 = l0.copy()\n",
    "l3 = l0[:]\n",
    "for i in \"l0 l1 l2 l3\".split():\n",
    "    print(f\"{i} >> {id(eval(i))}\")"
   ]
  },
  {
   "cell_type": "markdown",
   "id": "30904aa6",
   "metadata": {},
   "source": [
    "# Tuple"
   ]
  },
  {
   "cell_type": "code",
   "execution_count": 83,
   "id": "7dc836a7",
   "metadata": {},
   "outputs": [],
   "source": [
    "# tuple is immutable, but more efficient spatially when working with large data"
   ]
  },
  {
   "cell_type": "code",
   "execution_count": 69,
   "id": "73007c8a",
   "metadata": {},
   "outputs": [
    {
     "name": "stdout",
     "output_type": "stream",
     "text": [
      "t_0 : my\t<class 'str'>\n",
      "t_1 : ('my',)\t<class 'tuple'>\n",
      "t_2 : ('my',)\t<class 'tuple'>\n"
     ]
    }
   ],
   "source": [
    "t_0 = (\"my\")\n",
    "t_1 = (\"my\",) # agar aakhri me comma nahi ho ga to ye string consider ho ga\n",
    "t_2 =  \"my\",  # agar aakhri me comma nahi ho ga to ye string consider ho ga\n",
    "\n",
    "for i in range(3):\n",
    "    z = eval(f't_{i}')\n",
    "    print(f\"t_{i} : {z}\\t{type(z)}\")"
   ]
  },
  {
   "cell_type": "code",
   "execution_count": 82,
   "id": "a5cbb6ea",
   "metadata": {},
   "outputs": [
    {
     "name": "stdout",
     "output_type": "stream",
     "text": [
      "__ <class 'tuple'>\n",
      "!! ('a', 'b', 'c', 'd', 'e', 'f')\n",
      "-- ['c', 'd', 'e']\n"
     ]
    }
   ],
   "source": [
    "# unpacking me start wala outcome list hota h\n",
    "t = tuple(list(\"abcdef\"))\n",
    "print('__', type(t))\n",
    "print('!!', t)\n",
    "a, b, *c, f = t\n",
    "print('--', c)"
   ]
  },
  {
   "cell_type": "code",
   "execution_count": 89,
   "id": "7b4e6c31",
   "metadata": {},
   "outputs": [
    {
     "name": "stdout",
     "output_type": "stream",
     "text": [
      "-- ('my', 'name', 'is', 'amir', 'saleem')\n",
      "!! tuple: 88 bytes\n",
      "__ list : 128 bytes\n"
     ]
    }
   ],
   "source": [
    "# tuple is more memory efficient\n",
    "import sys\n",
    "t = tuple(\"my name is amir saleem\".split())\n",
    "print('--', t)\n",
    "t_l = list(t)\n",
    "print(f\"!! tuple: {sys.getsizeof(t)} bytes\")\n",
    "print(f\"__ list : {sys.getsizeof(t_l)} bytes\")"
   ]
  },
  {
   "cell_type": "code",
   "execution_count": 94,
   "id": "45550ce7",
   "metadata": {},
   "outputs": [
    {
     "name": "stdout",
     "output_type": "stream",
     "text": [
      "0.034692684002948226\n",
      "0.007336414000747027\n"
     ]
    }
   ],
   "source": [
    "# tuple vs list in initialization\n",
    "import timeit\n",
    "print(timeit.timeit(stmt=\"[0, 1, 2, 3, 4, 5]\", number=1000000)) # list\n",
    "print(timeit.timeit(stmt=\"(0, 1, 2, 3, 4, 5)\", number=1000000)) # tuple"
   ]
  },
  {
   "cell_type": "markdown",
   "id": "15506480",
   "metadata": {},
   "source": [
    "# Dictionary"
   ]
  },
  {
   "cell_type": "code",
   "execution_count": 9,
   "id": "4e1bd0ff",
   "metadata": {},
   "outputs": [
    {
     "ename": "SyntaxError",
     "evalue": "invalid syntax (<ipython-input-9-ef76d4c33b48>, line 2)",
     "output_type": "error",
     "traceback": [
      "\u001b[0;36m  File \u001b[0;32m\"<ipython-input-9-ef76d4c33b48>\"\u001b[0;36m, line \u001b[0;32m2\u001b[0m\n\u001b[0;31m    {\"Name\" = \"Amir\", 'Age' = 31} # wrong\u001b[0m\n\u001b[0m            ^\u001b[0m\n\u001b[0;31mSyntaxError\u001b[0m\u001b[0;31m:\u001b[0m invalid syntax\n"
     ]
    }
   ],
   "source": [
    "{\"Name\" : \"Amir\", 'Age' : 31} # OK\n",
    "{\"Name\" = \"Amir\", 'Age' = 31} # wrong\n",
    "dict(Name=\"Amir\", Age=31)     # OK\n",
    "dict(Name:\"Amir\", Age:31)     # wrong\n",
    "dict('Name':\"Amir\", 'Age':31) # wrong"
   ]
  },
  {
   "cell_type": "code",
   "execution_count": 14,
   "id": "54c56a79",
   "metadata": {},
   "outputs": [
    {
     "data": {
      "text/plain": [
       "{'Name': 'Amir', 'Age': 31}"
      ]
     },
     "execution_count": 14,
     "metadata": {},
     "output_type": "execute_result"
    }
   ],
   "source": [
    "d_ = {\"Name\" : \"Amir\", 'Age' : 31}\n",
    "d_"
   ]
  },
  {
   "cell_type": "markdown",
   "id": "2f041000",
   "metadata": {},
   "source": [
    "###  Delete item from dict"
   ]
  },
  {
   "cell_type": "code",
   "execution_count": 20,
   "id": "c497a34e",
   "metadata": {},
   "outputs": [],
   "source": [
    "del my_dict['some_key'`]\n",
    "my_dict.pop('some_key')\n",
    "my_dict.popitem() # remove last item"
   ]
  },
  {
   "cell_type": "code",
   "execution_count": 17,
   "id": "841c9283",
   "metadata": {},
   "outputs": [],
   "source": [
    "dict_copy = my_dict        # shellow copy\n",
    "dict_copy = my_dict.copy() # deep copy\n",
    "dict_copy = dict(my_dict)  # deep copy"
   ]
  },
  {
   "cell_type": "markdown",
   "id": "fd3977b7",
   "metadata": {},
   "source": [
    "### merging two dicts"
   ]
  },
  {
   "cell_type": "code",
   "execution_count": 19,
   "id": "52e6cc14",
   "metadata": {},
   "outputs": [
    {
     "data": {
      "text/plain": [
       "{'name': 'amir saleem', 'age': 31, 'gender': 'Male'}"
      ]
     },
     "execution_count": 19,
     "metadata": {},
     "output_type": "execute_result"
    }
   ],
   "source": [
    "# dict_1.update(dict_2) # ab dict_1 me jo keys nahi thin wo or un ki values dict_2 sy aa gain, or jo keys both me common thin wo dict_2 wali ho jaen gi\n",
    "dict_1 = {\"name\" : 'amir', 'age' : 31, 'gender' : \"Male\"}\n",
    "dict_2 = dict(name=\"amir saleem\", age=31)\n",
    "dict_1.update(dict_2)\n",
    "dict_1"
   ]
  },
  {
   "cell_type": "markdown",
   "id": "62e78c95",
   "metadata": {},
   "source": [
    "### dictionay keys"
   ]
  },
  {
   "cell_type": "code",
   "execution_count": 24,
   "id": "da357140",
   "metadata": {},
   "outputs": [
    {
     "name": "stdout",
     "output_type": "stream",
     "text": [
      "{'Name': 'amir', 5: 99, (99, 'amir'): 88}\n",
      "88\n"
     ]
    }
   ],
   "source": [
    "# you can use any immutable type as a key of dictionay, eg: string, number, tuple (if it is contains only immutable elements)\n",
    "d_1 = {\"Name\" : \"amir\", 5:99, (99, 'amir') : 88}\n",
    "print(d_1)\n",
    "print(d_1[(99, 'amir')])"
   ]
  },
  {
   "cell_type": "markdown",
   "id": "728c2d78",
   "metadata": {},
   "source": [
    "# Sets"
   ]
  },
  {
   "cell_type": "code",
   "execution_count": 26,
   "id": "bf399785",
   "metadata": {},
   "outputs": [],
   "source": [
    "# is it unorders, and mutable"
   ]
  },
  {
   "cell_type": "code",
   "execution_count": 28,
   "id": "6fe3cb0c",
   "metadata": {},
   "outputs": [
    {
     "data": {
      "text/plain": [
       "{'a', 'e', 'i', 'l', 'm', 'r', 's'}"
      ]
     },
     "execution_count": 28,
     "metadata": {},
     "output_type": "execute_result"
    }
   ],
   "source": [
    "set(\"amirsaleem\")"
   ]
  },
  {
   "cell_type": "code",
   "execution_count": 36,
   "id": "a862fcb3",
   "metadata": {},
   "outputs": [
    {
     "data": {
      "text/plain": [
       "{1, 2, 3}"
      ]
     },
     "execution_count": 36,
     "metadata": {},
     "output_type": "execute_result"
    }
   ],
   "source": [
    "s = set()\n",
    "s.add(1)\n",
    "s.add(2)\n",
    "s.add(3)\n",
    "s"
   ]
  },
  {
   "cell_type": "code",
   "execution_count": 37,
   "id": "e66e7079",
   "metadata": {},
   "outputs": [
    {
     "data": {
      "text/plain": [
       "{1, 3}"
      ]
     },
     "execution_count": 37,
     "metadata": {},
     "output_type": "execute_result"
    }
   ],
   "source": [
    "s.remove(2) # if value is not exist this method raise an error\n",
    "s"
   ]
  },
  {
   "cell_type": "code",
   "execution_count": 38,
   "id": "3a8e3557",
   "metadata": {},
   "outputs": [
    {
     "data": {
      "text/plain": [
       "{1, 3}"
      ]
     },
     "execution_count": 38,
     "metadata": {},
     "output_type": "execute_result"
    }
   ],
   "source": [
    "s.discard(11) # if value is not exist this method DOES NOT raise an error\n",
    "s"
   ]
  },
  {
   "cell_type": "code",
   "execution_count": 39,
   "id": "7fc81083",
   "metadata": {},
   "outputs": [
    {
     "data": {
      "text/plain": [
       "{3}"
      ]
     },
     "execution_count": 39,
     "metadata": {},
     "output_type": "execute_result"
    }
   ],
   "source": [
    "s.pop() # remove arbitrary value of the set and return it\n",
    "s"
   ]
  },
  {
   "cell_type": "code",
   "execution_count": 61,
   "id": "b45415af",
   "metadata": {},
   "outputs": [],
   "source": [
    "odds = {1, 3, 5, 7, 9}\n",
    "evens = {0, 2, 4, 6, 8}\n",
    "primes = {2, 3, 5, 7}"
   ]
  },
  {
   "cell_type": "code",
   "execution_count": 63,
   "id": "152fac92",
   "metadata": {},
   "outputs": [
    {
     "name": "stdout",
     "output_type": "stream",
     "text": [
      "{0, 1, 2, 3, 4, 5, 6, 7, 8, 9}\n",
      "set()\n",
      "{1, 9}\n",
      "{1, 2, 9}\n"
     ]
    }
   ],
   "source": [
    "# following all methods will NOT change original sets, if wee need to change orignal sets, we use __update methods, eg: \n",
    "# update for union\n",
    "# intersection_update  for intersection\n",
    "# difference_update for  difference\n",
    "# symmetric_difference_update for symmetric_difference\n",
    "\n",
    "print(odds.union(evens)) # union\n",
    "print(odds.intersection(evens)) # intersection\n",
    "print(odds.difference(primes)) # all elements in odds but NOT in primes\n",
    "print(odds.symmetric_difference(primes)) # all values from both sets excpt intersection values"
   ]
  },
  {
   "cell_type": "code",
   "execution_count": 75,
   "id": "9b5beebf",
   "metadata": {},
   "outputs": [
    {
     "name": "stdout",
     "output_type": "stream",
     "text": [
      "False\n",
      "True\n",
      "\n",
      "True\n",
      "False\n",
      "\n",
      "False\n",
      "\n"
     ]
    }
   ],
   "source": [
    "s_1 = set((2,3,4))\n",
    "s_2 = set((2,3))\n",
    "\n",
    "print(s_1.issubset(s_2))\n",
    "print(s_2.issubset(s_1))\n",
    "print()\n",
    "print(s_1.issuperset(s_2)) # s_1 contains all elements from s_2\n",
    "print(s_2.issuperset(s_1)) # s_2 contains all elements from s_1\n",
    "print()\n",
    "print(s_1.isdisjoint(s_2))\n",
    "print()"
   ]
  },
  {
   "cell_type": "markdown",
   "id": "f1808b6b",
   "metadata": {},
   "source": [
    "# frozenset \n",
    "#### An immutable set, hence we cant change or update it after initilazation\n",
    "#### it has only these methods: difference, intersection, isdisjoint, issubset, issuperset, symmetric_difference, union"
   ]
  },
  {
   "cell_type": "code",
   "execution_count": 83,
   "id": "0443275a",
   "metadata": {},
   "outputs": [
    {
     "name": "stdout",
     "output_type": "stream",
     "text": [
      "x_1: frozenset({0, 1, 2, 3, 4})\n",
      "x_2: frozenset({2, 3, 4, 5, 6})\n"
     ]
    }
   ],
   "source": [
    "x_1 = frozenset(list(range(5)))\n",
    "x_2 = frozenset(list(range(2,7)))\n",
    "print(\"x_1:\", x_1)\n",
    "print(\"x_2:\", x_2)"
   ]
  },
  {
   "cell_type": "code",
   "execution_count": 87,
   "id": "f343d828",
   "metadata": {},
   "outputs": [
    {
     "name": "stdout",
     "output_type": "stream",
     "text": [
      "frozenset({0, 1})\n",
      "frozenset({2, 3, 4})\n"
     ]
    }
   ],
   "source": [
    "print(x_1.difference(x_2))\n",
    "print(x_1.intersection(x_2))"
   ]
  },
  {
   "cell_type": "markdown",
   "id": "f2ddf888",
   "metadata": {},
   "source": [
    "# String"
   ]
  },
  {
   "cell_type": "code",
   "execution_count": 89,
   "id": "242c89dc",
   "metadata": {},
   "outputs": [
    {
     "name": "stdout",
     "output_type": "stream",
     "text": [
      "Hello\n",
      "world\n",
      "\n",
      "Hello world\n"
     ]
    }
   ],
   "source": [
    "str_1 = \"\"\"Hello\n",
    "world\"\"\"\n",
    "str_2 = \"\"\"Hello \\\n",
    "world\"\"\" # the escape character cencel new line\n",
    "print(str_1)\n",
    "print()\n",
    "print(str_2)"
   ]
  },
  {
   "cell_type": "markdown",
   "id": "14d77adc",
   "metadata": {},
   "source": [
    "### string format"
   ]
  },
  {
   "cell_type": "code",
   "execution_count": 374,
   "id": "6cf4dae3",
   "metadata": {},
   "outputs": [
    {
     "name": "stdout",
     "output_type": "stream",
     "text": [
      "1- My Name is   amir \n",
      "2- My weight is 59 \n",
      "3- My weight is 59.553456 \n",
      "4- My weight is 59.55 \n",
      "5- My weigth is 59.553456\n",
      "6- My weigth is 59.6\n",
      "7- My weigth is 59.5535\n",
      "8- My Name is Amir\n",
      "9- My Name is 'Amir'\n"
     ]
    }
   ],
   "source": [
    "age = 31\n",
    "weight = 59.553456\n",
    "name = \"amir\"\n",
    "print(\"1- My Name is   %s \"  %name )\n",
    "print(\"2- My weight is %d \"  %weight )\n",
    "print(\"3- My weight is %f \"  %weight )\n",
    "print(\"4- My weight is %.2f \"%weight )\n",
    "print(\"5- My weigth is {}\".format(weight))\n",
    "print(\"6- My weigth is {:.1f}\".format(weight))\n",
    "print(f\"7- My weigth is {weight:.4f}\")\n",
    "name = \"Amir\"\n",
    "print(f\"8- My Name is {name}\")\n",
    "print(f\"9- My Name is {name!r}\")"
   ]
  },
  {
   "cell_type": "markdown",
   "id": "732226ff",
   "metadata": {},
   "source": [
    "# Collections: \n",
    "#### Counter, namedtuple, OrderdDict, dafaultdict, deque"
   ]
  },
  {
   "cell_type": "code",
   "execution_count": 120,
   "id": "2678493a",
   "metadata": {},
   "outputs": [
    {
     "name": "stdout",
     "output_type": "stream",
     "text": [
      "aaaabbccccccc\n",
      "Counter({'c': 7, 'a': 4, 'b': 2})\n",
      "[('c', 7), ('a', 4), ('b', 2)]\n",
      "[('c', 7)]\n",
      "[('c', 7), ('a', 4)]\n",
      "['a', 'a', 'a', 'a', 'b', 'b', 'c', 'c', 'c', 'c', 'c', 'c', 'c']\n"
     ]
    }
   ],
   "source": [
    "from collections import Counter\n",
    "a = ''.join(['a']*4 + ['b']*2 + ['c']*7)\n",
    "print(a)\n",
    "my_counter = Counter(a)\n",
    "print(my_counter)\n",
    "print(my_counter.most_common())  # order by most common\n",
    "print(my_counter.most_common(1)) # most common\n",
    "print(my_counter.most_common(2)) # two most commons\n",
    "print(list(my_counter.elements())) # all elements"
   ]
  },
  {
   "cell_type": "code",
   "execution_count": 123,
   "id": "ad497ab7",
   "metadata": {},
   "outputs": [
    {
     "name": "stdout",
     "output_type": "stream",
     "text": [
      "Point(x=1, y=-4)\n",
      "1 -4\n"
     ]
    }
   ],
   "source": [
    "from collections import namedtuple\n",
    "Point = namedtuple('Point', 'x,y')\n",
    "pt = Point(1, -4)\n",
    "print(pt)\n",
    "print(pt.x, pt.y)"
   ]
  },
  {
   "cell_type": "code",
   "execution_count": 1,
   "id": "133d0a90",
   "metadata": {},
   "outputs": [
    {
     "name": "stdout",
     "output_type": "stream",
     "text": [
      "{'z': 1, 'q': 99, 'a': 2}\n"
     ]
    }
   ],
   "source": [
    "dict_1 = {}\n",
    "dict_1['z'] = 1\n",
    "dict_1['q'] = 99\n",
    "dict_1['a'] = 2\n",
    "print(dict_1)\n",
    "\n",
    "dict_2 = {}\n",
    "keys = ['z', 'q', 'a']\n",
    "values = [1, 99, 2]\n",
    "for k,v in zip(keys, values):\n",
    "    dict_2[k] = v\n",
    "print(dict_2)\n",
    "\n",
    "dict_3 = dict(zip(keys, values))\n",
    "print(dict_3)\n",
    "\n",
    "dict_4 = {\"z\" : 1, \"q\":99, 'a'}"
   ]
  },
  {
   "cell_type": "code",
   "execution_count": 4,
   "id": "7c87761d",
   "metadata": {},
   "outputs": [
    {
     "name": "stdout",
     "output_type": "stream",
     "text": [
      "OrderedDict([('a', 0), ('m', 1), ('i', 2), ('r', 3)])\n",
      "{'a': 0, 'm': 1, 'i': 2, 'r': 3}\n"
     ]
    }
   ],
   "source": [
    "from collections import OrderedDict\n",
    "# python 3.7 sy pehly k versions me normal dict me order reserve nahi rehta tha, to us time jab hame orders reserve rakhna hota tha to OrderedDict user karty thy magar python 3.7 me normal dict bhi order reserve rakhti h, to us me is <OrderedDict> ka koi use nahi h\n",
    "keys = list('amir')\n",
    "values = list(range(4))\n",
    "my_orderd_dict = OrderedDict(zip(keys, values))\n",
    "\n",
    "my_normal_dict = dict(zip(keys, values))\n",
    "print(my_orderd_dict) # ordered dict\n",
    "print(my_normal_dict) # normal dict"
   ]
  },
  {
   "cell_type": "code",
   "execution_count": 8,
   "id": "50cf2e84",
   "metadata": {},
   "outputs": [
    {
     "name": "stdout",
     "output_type": "stream",
     "text": [
      "{'a': 0, 'm': 1, 'i': 2, 'r': 3}\n"
     ]
    },
    {
     "ename": "KeyError",
     "evalue": "'e'",
     "output_type": "error",
     "traceback": [
      "\u001b[0;31m---------------------------------------------------------------------------\u001b[0m",
      "\u001b[0;31mKeyError\u001b[0m                                  Traceback (most recent call last)",
      "\u001b[0;32m<ipython-input-8-58df6070a8c9>\u001b[0m in \u001b[0;36m<module>\u001b[0;34m\u001b[0m\n\u001b[1;32m      4\u001b[0m \u001b[0mnormal_dict_\u001b[0m \u001b[0;34m=\u001b[0m \u001b[0mdict\u001b[0m\u001b[0;34m(\u001b[0m\u001b[0mzip\u001b[0m\u001b[0;34m(\u001b[0m\u001b[0mkeys\u001b[0m\u001b[0;34m,\u001b[0m \u001b[0mvalues\u001b[0m\u001b[0;34m)\u001b[0m\u001b[0;34m)\u001b[0m\u001b[0;34m\u001b[0m\u001b[0;34m\u001b[0m\u001b[0m\n\u001b[1;32m      5\u001b[0m \u001b[0mprint\u001b[0m\u001b[0;34m(\u001b[0m\u001b[0mnormal_dict_\u001b[0m\u001b[0;34m)\u001b[0m\u001b[0;34m\u001b[0m\u001b[0;34m\u001b[0m\u001b[0m\n\u001b[0;32m----> 6\u001b[0;31m \u001b[0mnormal_dict_\u001b[0m\u001b[0;34m[\u001b[0m\u001b[0;34m'e'\u001b[0m\u001b[0;34m]\u001b[0m\u001b[0;34m\u001b[0m\u001b[0;34m\u001b[0m\u001b[0m\n\u001b[0m",
      "\u001b[0;31mKeyError\u001b[0m: 'e'"
     ]
    }
   ],
   "source": [
    "from collections import defaultdict\n",
    "# defaultdict is a normal dict with only one exception: if ve try to extract the value using some key, and that key is not exist in \n",
    "# the dict, the normal dictinory raise an error, but collections.defaultdict is returning a value (we specified eirlear)\n",
    "normal_dict_ = dict(zip(keys, values))\n",
    "print(normal_dict_)\n",
    "normal_dict_['e']"
   ]
  },
  {
   "cell_type": "code",
   "execution_count": 46,
   "id": "c7e9cc32",
   "metadata": {},
   "outputs": [
    {
     "name": "stdout",
     "output_type": "stream",
     "text": [
      "3\n",
      "0\n",
      "\n",
      "0 # type : int\n",
      "0.0 # type : float\n",
      "[] # type : list\n",
      "() # type : tuple\n",
      "{} # type : dict\n",
      "set() # type : set\n"
     ]
    }
   ],
   "source": [
    "defaultdict_ = defaultdict(int, normal_dict_)\n",
    "print(defaultdict_['r'])\n",
    "print(defaultdict_['e'])\n",
    "print()\n",
    "for type_ in [int, float, list, tuple, dict, set]:\n",
    "    defaultdict_ = defaultdict(type_, normal_dict_)\n",
    "    print(f\"{defaultdict_['e']} # type : {type_.__name__}\")"
   ]
  },
  {
   "cell_type": "markdown",
   "id": "6419a03e",
   "metadata": {},
   "source": [
    "# itertools"
   ]
  },
  {
   "cell_type": "code",
   "execution_count": 48,
   "id": "92341439",
   "metadata": {},
   "outputs": [],
   "source": [
    "import itertools"
   ]
  },
  {
   "cell_type": "code",
   "execution_count": 54,
   "id": "137abd2a",
   "metadata": {},
   "outputs": [
    {
     "name": "stdout",
     "output_type": "stream",
     "text": [
      "[(1, 3), (1, 4), (2, 3), (2, 4)]\n",
      "\n",
      "[(1, 3, 1, 3), (1, 3, 1, 4), (1, 3, 2, 3), (1, 3, 2, 4), (1, 4, 1, 3), (1, 4, 1, 4), (1, 4, 2, 3), (1, 4, 2, 4), (2, 3, 1, 3), (2, 3, 1, 4), (2, 3, 2, 3), (2, 3, 2, 4), (2, 4, 1, 3), (2, 4, 1, 4), (2, 4, 2, 3), (2, 4, 2, 4)]\n"
     ]
    }
   ],
   "source": [
    "# product\n",
    "a = [1,2]\n",
    "b = [3,4]\n",
    "print(list(itertools.product(a,b)))\n",
    "print()\n",
    "print(list(itertools.product(a,b, repeat=2)))"
   ]
  },
  {
   "cell_type": "code",
   "execution_count": 60,
   "id": "7d8c3e79",
   "metadata": {},
   "outputs": [
    {
     "name": "stdout",
     "output_type": "stream",
     "text": [
      "[(1, 2, 3), (1, 3, 2), (2, 1, 3), (2, 3, 1), (3, 1, 2), (3, 2, 1)]\n",
      "[(1, 2), (1, 3), (2, 1), (2, 3), (3, 1), (3, 2)]\n"
     ]
    }
   ],
   "source": [
    "# permutations\n",
    "# retrun all possible orderings\n",
    "a = [1,2,3]\n",
    "print(list(itertools.permutations(a)))\n",
    "print(list(itertools.permutations(a, r=2))) # length"
   ]
  },
  {
   "cell_type": "code",
   "execution_count": 69,
   "id": "74d70593",
   "metadata": {},
   "outputs": [
    {
     "name": "stdout",
     "output_type": "stream",
     "text": [
      "[(1, 2), (1, 3), (2, 3)]\n",
      "[(1, 2, 3)]\n"
     ]
    }
   ],
   "source": [
    "# combinations\n",
    "# make all possible combinations with specified length\n",
    "a = [1,2,3]\n",
    "print(list(itertools.combinations(a, r=2)))\n",
    "print(list(itertools.combinations(a, r=3)))"
   ]
  },
  {
   "cell_type": "code",
   "execution_count": 71,
   "id": "1e4ce062",
   "metadata": {},
   "outputs": [
    {
     "name": "stdout",
     "output_type": "stream",
     "text": [
      "[(1, 1), (1, 2), (1, 3), (2, 2), (2, 3), (3, 3)]\n",
      "[(1, 1, 1), (1, 1, 2), (1, 1, 3), (1, 2, 2), (1, 2, 3), (1, 3, 3), (2, 2, 2), (2, 2, 3), (2, 3, 3), (3, 3, 3)]\n"
     ]
    }
   ],
   "source": [
    "# combinations_with_replacement\n",
    "a = [1,2,3]\n",
    "print(list(itertools.combinations_with_replacement(a, r=2)))\n",
    "print(list(itertools.combinations_with_replacement(a, r=3)))"
   ]
  },
  {
   "cell_type": "code",
   "execution_count": 90,
   "id": "1d139940",
   "metadata": {},
   "outputs": [
    {
     "name": "stdout",
     "output_type": "stream",
     "text": [
      "[1, 2, 3, 4]\n",
      "[1, 3, 6, 10]\n",
      "[1, 2, 3, 4]\n",
      "[1, 1, 1, 1]\n",
      "[1, 2, 6, 24]\n",
      "[1, -1, -4, -8]\n"
     ]
    }
   ],
   "source": [
    "# accumulate\n",
    "a = [1,2,3,4]\n",
    "print(a)\n",
    "print(list(itertools.accumulate(a))) # by default its compute the sum, but we can use another function, like: min, max\n",
    "print(list(itertools.accumulate(a, func=max)))\n",
    "print(list(itertools.accumulate(a, func=min)))\n",
    "import operator\n",
    "print(list(itertools.accumulate(a, func=operator.mul)))\n",
    "print(list(itertools.accumulate(a, func=operator.sub)))"
   ]
  },
  {
   "cell_type": "code",
   "execution_count": 105,
   "id": "9122a1f4",
   "metadata": {},
   "outputs": [
    {
     "name": "stdout",
     "output_type": "stream",
     "text": [
      "True [1, 2]\n",
      "False [3, 4, 5, 4, 9]\n",
      "True [2]\n",
      "False [3]\n",
      "--------------------\n",
      "\n",
      "True [{'name': 'Tim', 'age': 25}, {'name': 'Dan', 'age': 25}]\n",
      "False [{'name': 'Lisa', 'age': 27}, {'name': 'Claire', 'age': 28}]\n",
      "\n",
      "25 [{'name': 'Tim', 'age': 25}, {'name': 'Dan', 'age': 25}]\n",
      "27 [{'name': 'Lisa', 'age': 27}]\n",
      "28 [{'name': 'Claire', 'age': 28}]\n"
     ]
    }
   ],
   "source": [
    "# groupby\n",
    "a = [1,2,3,4,5,4,9,2,3]\n",
    "g = itertools.groupby(a, key=lambda x:x<3)\n",
    "for k,v in g:\n",
    "    print(k,list(v))\n",
    "print(\"--------------------\\n\")\n",
    "\n",
    "persons = [\n",
    "    dict(name=\"Tim\", age=25),\n",
    "    dict(name=\"Dan\", age=25),\n",
    "    dict(name=\"Lisa\", age=27),\n",
    "    dict(name=\"Claire\", age=28)\n",
    "]\n",
    "g = itertools.groupby(persons, key=lambda x:x['age']==25)\n",
    "for k,v in g:\n",
    "    print(k, list(v))\n",
    "print()\n",
    "g = itertools.groupby(persons, key=lambda x:x['age']) # age ki base par grouping\n",
    "for k,v in g:\n",
    "    print(k, list(v))"
   ]
  },
  {
   "cell_type": "code",
   "execution_count": 108,
   "id": "c70c1ceb",
   "metadata": {},
   "outputs": [
    {
     "name": "stdout",
     "output_type": "stream",
     "text": [
      "10\n",
      "11\n",
      "12\n",
      "13\n",
      "14\n",
      "15\n"
     ]
    }
   ],
   "source": [
    "# count\n",
    "# starting from specified number to infinite with 1 increment\n",
    "for i in itertools.count(10):\n",
    "    print(i)\n",
    "    if i == 15:\n",
    "        break"
   ]
  },
  {
   "cell_type": "code",
   "execution_count": 112,
   "id": "9b71572a",
   "metadata": {},
   "outputs": [
    {
     "name": "stdout",
     "output_type": "stream",
     "text": [
      "1\n",
      "2\n",
      "4\n",
      "1\n",
      "2\n",
      "4\n",
      "1\n",
      "2\n"
     ]
    }
   ],
   "source": [
    "# cycle\n",
    "# return infinite cycles of give perameter\n",
    "a = [1,2,4]\n",
    "for e, i in enumerate(itertools.cycle(a)):\n",
    "    print(i)\n",
    "    if e == 7:\n",
    "        break"
   ]
  },
  {
   "cell_type": "code",
   "execution_count": 118,
   "id": "f1bced70",
   "metadata": {},
   "outputs": [
    {
     "name": "stdout",
     "output_type": "stream",
     "text": [
      "1\n",
      "1\n",
      "1\n",
      "1\n",
      "1\n",
      "1\n",
      "\n",
      "\n"
     ]
    },
    {
     "data": {
      "text/plain": [
       "[1, 1, 1, 1, 1, 1, 1, 1, 1]"
      ]
     },
     "execution_count": 118,
     "metadata": {},
     "output_type": "execute_result"
    }
   ],
   "source": [
    "# repeat\n",
    "for e, i in enumerate(itertools.repeat(1)):\n",
    "    print(i)\n",
    "    if e == 5:\n",
    "        break\n",
    "\n",
    "print(\"\\n\")\n",
    "\n",
    "# we can specify number of repetation\n",
    "list(itertools.repeat(1, 9))"
   ]
  },
  {
   "cell_type": "markdown",
   "id": "eaecaa6c",
   "metadata": {},
   "source": [
    "# sorted"
   ]
  },
  {
   "cell_type": "code",
   "execution_count": 122,
   "id": "3330cc3c",
   "metadata": {},
   "outputs": [
    {
     "name": "stdout",
     "output_type": "stream",
     "text": [
      "[(5, 1), (3, -2), (2, 3), (9, 0)]\n",
      "\n",
      "[(2, 3), (3, -2), (5, 1), (9, 0)]\n",
      "[(3, -2), (9, 0), (5, 1), (2, 3)]\n",
      "[(3, -2), (2, 3), (5, 1), (9, 0)]\n"
     ]
    }
   ],
   "source": [
    "x = [5,3,2,9]\n",
    "y = [1, -2, 3, 0]\n",
    "a = list(zip(x,y))\n",
    "print(a)\n",
    "print()\n",
    "print(sorted(a, key=lambda x:x[0])) # sort by firt value in each tuple # this is default setting, so remoing <key> perameter does not effect the results\n",
    "print(sorted(a, key=lambda x:x[1])) # sort by seconds value in each tuple\n",
    "print(sorted(a, key=lambda x:x[0]+x[1])) # sort by sum of each tuple"
   ]
  },
  {
   "cell_type": "code",
   "execution_count": 135,
   "id": "62b2026d",
   "metadata": {},
   "outputs": [],
   "source": [
    "# https://www.youtube.com/watch?v=qOuOV4pDVGY&list=PLqnslRFeH2UqLwzS0AwKDKLrpYBKzLBy2&index=9"
   ]
  },
  {
   "cell_type": "markdown",
   "id": "943b0377",
   "metadata": {},
   "source": [
    "# Exception"
   ]
  },
  {
   "cell_type": "code",
   "execution_count": 2,
   "id": "dc1cd7f5",
   "metadata": {},
   "outputs": [
    {
     "ename": "Exception",
     "evalue": "x should be positive",
     "output_type": "error",
     "traceback": [
      "\u001b[0;31m---------------------------------------------------------------------------\u001b[0m",
      "\u001b[0;31mException\u001b[0m                                 Traceback (most recent call last)",
      "\u001b[0;32m<ipython-input-2-25d97c145e49>\u001b[0m in \u001b[0;36m<module>\u001b[0;34m\u001b[0m\n\u001b[1;32m      1\u001b[0m \u001b[0mx\u001b[0m \u001b[0;34m=\u001b[0m \u001b[0;34m-\u001b[0m\u001b[0;36m3\u001b[0m\u001b[0;34m\u001b[0m\u001b[0;34m\u001b[0m\u001b[0m\n\u001b[1;32m      2\u001b[0m \u001b[0;32mif\u001b[0m \u001b[0mx\u001b[0m \u001b[0;34m<\u001b[0m \u001b[0;36m0\u001b[0m\u001b[0;34m:\u001b[0m\u001b[0;34m\u001b[0m\u001b[0;34m\u001b[0m\u001b[0m\n\u001b[0;32m----> 3\u001b[0;31m     \u001b[0;32mraise\u001b[0m \u001b[0mException\u001b[0m\u001b[0;34m(\u001b[0m\u001b[0;34m\"x should be positive\"\u001b[0m\u001b[0;34m)\u001b[0m\u001b[0;34m\u001b[0m\u001b[0;34m\u001b[0m\u001b[0m\n\u001b[0m",
      "\u001b[0;31mException\u001b[0m: x should be positive"
     ]
    }
   ],
   "source": [
    "x = -3\n",
    "if x < 0:\n",
    "    raise Exception(\"x should be positive\")"
   ]
  },
  {
   "cell_type": "code",
   "execution_count": 5,
   "id": "8c55c922",
   "metadata": {},
   "outputs": [
    {
     "ename": "AssertionError",
     "evalue": "x is not positive",
     "output_type": "error",
     "traceback": [
      "\u001b[0;31m---------------------------------------------------------------------------\u001b[0m",
      "\u001b[0;31mAssertionError\u001b[0m                            Traceback (most recent call last)",
      "\u001b[0;32m<ipython-input-5-9c0071752767>\u001b[0m in \u001b[0;36m<module>\u001b[0;34m\u001b[0m\n\u001b[0;32m----> 1\u001b[0;31m \u001b[0;32massert\u001b[0m\u001b[0;34m(\u001b[0m\u001b[0mx\u001b[0m\u001b[0;34m>\u001b[0m\u001b[0;36m0\u001b[0m\u001b[0;34m)\u001b[0m\u001b[0;34m,\u001b[0m \u001b[0;34m'x is not positive'\u001b[0m\u001b[0;34m\u001b[0m\u001b[0;34m\u001b[0m\u001b[0m\n\u001b[0m",
      "\u001b[0;31mAssertionError\u001b[0m: x is not positive"
     ]
    }
   ],
   "source": [
    "assert(x>0), 'x is not positive'"
   ]
  },
  {
   "cell_type": "code",
   "execution_count": 8,
   "id": "a00a7ea2",
   "metadata": {},
   "outputs": [
    {
     "name": "stdout",
     "output_type": "stream",
     "text": [
      "division by zero\n",
      "division by zero\n"
     ]
    }
   ],
   "source": [
    "try:\n",
    "    a = 5/0\n",
    "except Exception as e:\n",
    "    print(e)\n",
    "\n",
    "try:\n",
    "    a = 5/0\n",
    "except ZeroDivisionError as e:\n",
    "    print(e)"
   ]
  },
  {
   "cell_type": "code",
   "execution_count": 16,
   "id": "8c7a8ef6",
   "metadata": {},
   "outputs": [
    {
     "name": "stdout",
     "output_type": "stream",
     "text": [
      "unsupported operand type(s) for +: 'float' and 'str'\n",
      "\n",
      "------------------\n",
      "\n",
      "division by zero\n",
      "\n",
      "-----------------\n",
      "\n",
      "Every thing is fine\n",
      "\n",
      "-----------------\n",
      "\n",
      "Every thing is fine\n",
      "This line is executing regarless of error or not\n"
     ]
    }
   ],
   "source": [
    "try:\n",
    "    a = 5/1\n",
    "    b = a + '1'\n",
    "except ZeroDivisionError as e:\n",
    "    print(e)\n",
    "except TypeError as e:\n",
    "    print(e)\n",
    "\n",
    "print(\"\\n------------------\\n\")\n",
    "\n",
    "try:\n",
    "    a = 5/0\n",
    "    b = a + '1'\n",
    "except ZeroDivisionError as e:\n",
    "    print(e)\n",
    "except TypeError as e:\n",
    "    print(e)\n",
    "    \n",
    "print(\"\\n-----------------\\n\")\n",
    "\n",
    "try:\n",
    "    a = 5/1\n",
    "    b = \"a\" + '1'\n",
    "except ZeroDivisionError as e:\n",
    "    print(e)\n",
    "except TypeError as e:\n",
    "    print(e)\n",
    "else:\n",
    "    print(\"Every thing is fine\")\n",
    "    \n",
    "print(\"\\n-----------------\\n\")\n",
    "\n",
    "try:\n",
    "    a = 5/1\n",
    "    b = \"a\" + '1'\n",
    "except ZeroDivisionError as e:\n",
    "    print(e)\n",
    "except TypeError as e:\n",
    "    print(e)\n",
    "else:\n",
    "    print(\"Every thing is fine\")\n",
    "finally:\n",
    "    print(\"This line is executing regarless of error or not\")"
   ]
  },
  {
   "cell_type": "code",
   "execution_count": 21,
   "id": "09efcd16",
   "metadata": {},
   "outputs": [
    {
     "name": "stdout",
     "output_type": "stream",
     "text": [
      "Value is too heigh\n"
     ]
    }
   ],
   "source": [
    "class ValueTooHighError(Exception):\n",
    "    pass\n",
    "x = 1\n",
    "try:\n",
    "    if x > 0:\n",
    "        raise ValueTooHighError(\"Value is too heigh\")\n",
    "except ValueTooHighError as e:\n",
    "    print(e)"
   ]
  },
  {
   "cell_type": "markdown",
   "id": "8a54f20f",
   "metadata": {},
   "source": [
    "# JSON"
   ]
  },
  {
   "cell_type": "code",
   "execution_count": 43,
   "id": "a9518612",
   "metadata": {},
   "outputs": [
    {
     "data": {
      "text/plain": [
       "{'name': 'amir',\n",
       " 'age': 31,\n",
       " 'city': 'karachi',\n",
       " 'hasChildren': True,\n",
       " 'titles': ['Data-analyst', 'software engeneer'],\n",
       " 'children': [{'FirstName': 'Hamza', 'LastName': 'Amir', 'age': 7},\n",
       "  {'FirstName': 'Oqba', 'LastName': 'Amir', 'age': 3},\n",
       "  {'FirstName': 'Urwa', 'LastName': 'Amir', 'age': 1}]}"
      ]
     },
     "execution_count": 43,
     "metadata": {},
     "output_type": "execute_result"
    }
   ],
   "source": [
    "dict_ = {\"name\" : 'amir', \n",
    "        'age' : 31,\n",
    "        'city' : 'karachi',\n",
    "        'hasChildren' : True,\n",
    "        'titles' : ['Data-analyst', 'software engeneer'],\n",
    "        'children' : [\n",
    "            {\n",
    "                'FirstName' : 'Hamza',\n",
    "                'LastName' :  'Amir',\n",
    "                'age' : 7\n",
    "            },\n",
    "            {\n",
    "                'FirstName' : 'Oqba' ,\n",
    "                'LastName' :  'Amir',\n",
    "                'age' : 3\n",
    "            },\n",
    "            {\n",
    "                'FirstName' : 'Urwa' ,\n",
    "                'LastName' :  'Amir',\n",
    "                'age' : 1\n",
    "            }\n",
    "        ]}\n",
    "dict_"
   ]
  },
  {
   "cell_type": "code",
   "execution_count": 44,
   "id": "a63b0303",
   "metadata": {},
   "outputs": [
    {
     "data": {
      "text/html": [
       "<div>\n",
       "<style scoped>\n",
       "    .dataframe tbody tr th:only-of-type {\n",
       "        vertical-align: middle;\n",
       "    }\n",
       "\n",
       "    .dataframe tbody tr th {\n",
       "        vertical-align: top;\n",
       "    }\n",
       "\n",
       "    .dataframe thead th {\n",
       "        text-align: right;\n",
       "    }\n",
       "</style>\n",
       "<table border=\"1\" class=\"dataframe\">\n",
       "  <thead>\n",
       "    <tr style=\"text-align: right;\">\n",
       "      <th></th>\n",
       "      <th>Python</th>\n",
       "      <th>Json</th>\n",
       "    </tr>\n",
       "  </thead>\n",
       "  <tbody>\n",
       "    <tr>\n",
       "      <th>0</th>\n",
       "      <td>dict</td>\n",
       "      <td>object</td>\n",
       "    </tr>\n",
       "    <tr>\n",
       "      <th>1</th>\n",
       "      <td>list,tuple</td>\n",
       "      <td>array</td>\n",
       "    </tr>\n",
       "    <tr>\n",
       "      <th>2</th>\n",
       "      <td>str</td>\n",
       "      <td>string</td>\n",
       "    </tr>\n",
       "    <tr>\n",
       "      <th>3</th>\n",
       "      <td>int,long,float</td>\n",
       "      <td>number</td>\n",
       "    </tr>\n",
       "    <tr>\n",
       "      <th>4</th>\n",
       "      <td>True</td>\n",
       "      <td>true</td>\n",
       "    </tr>\n",
       "    <tr>\n",
       "      <th>5</th>\n",
       "      <td>False</td>\n",
       "      <td>false</td>\n",
       "    </tr>\n",
       "    <tr>\n",
       "      <th>6</th>\n",
       "      <td>None</td>\n",
       "      <td>null</td>\n",
       "    </tr>\n",
       "  </tbody>\n",
       "</table>\n",
       "</div>"
      ],
      "text/plain": [
       "           Python    Json\n",
       "0            dict  object\n",
       "1      list,tuple   array\n",
       "2             str  string\n",
       "3  int,long,float  number\n",
       "4            True    true\n",
       "5           False   false\n",
       "6            None    null"
      ]
     },
     "execution_count": 44,
     "metadata": {},
     "output_type": "execute_result"
    }
   ],
   "source": [
    "# JSON supports primitive types (stings, numbers, boolean), as well as nested arrays and objects. Simple python objects are \n",
    "# translated to JSON according to the following conversion.\n",
    "import pandas as pd\n",
    "pd.DataFrame({'Python':['dict', 'list,tuple', 'str', 'int,long,float', 'True', 'False', 'None'], \n",
    "             'Json':['object', 'array', 'string', 'number', 'true', 'false', 'null']})"
   ]
  },
  {
   "cell_type": "code",
   "execution_count": 51,
   "id": "1c4751e7",
   "metadata": {},
   "outputs": [
    {
     "name": "stdout",
     "output_type": "stream",
     "text": [
      "\n",
      "--------------------- j_1\n",
      "{\"name\": \"amir\", \"age\": 31, \"city\": \"karachi\", \"hasChildren\": true, \"titles\": [\"Data-analyst\", \"software engeneer\"], \"children\": [{\"FirstName\": \"Hamza\", \"LastName\": \"Amir\", \"age\": 7}, {\"FirstName\": \"Oqba\", \"LastName\": \"Amir\", \"age\": 3}, {\"FirstName\": \"Urwa\", \"LastName\": \"Amir\", \"age\": 1}]}\n",
      "\n",
      "--------------------- j_2\n",
      "{\"age\": 31, \"children\": [{\"FirstName\": \"Hamza\", \"LastName\": \"Amir\", \"age\": 7}, {\"FirstName\": \"Oqba\", \"LastName\": \"Amir\", \"age\": 3}, {\"FirstName\": \"Urwa\", \"LastName\": \"Amir\", \"age\": 1}], \"city\": \"karachi\", \"hasChildren\": true, \"name\": \"amir\", \"titles\": [\"Data-analyst\", \"software engeneer\"]}\n",
      "\n",
      "--------------------- j_3\n",
      "{\n",
      "    \"name\": \"amir\",\n",
      "    \"age\": 31,\n",
      "    \"city\": \"karachi\",\n",
      "    \"hasChildren\": true,\n",
      "    \"titles\": [\n",
      "        \"Data-analyst\",\n",
      "        \"software engeneer\"\n",
      "    ],\n",
      "    \"children\": [\n",
      "        {\n",
      "            \"FirstName\": \"Hamza\",\n",
      "            \"LastName\": \"Amir\",\n",
      "            \"age\": 7\n",
      "        },\n",
      "        {\n",
      "            \"FirstName\": \"Oqba\",\n",
      "            \"LastName\": \"Amir\",\n",
      "            \"age\": 3\n",
      "        },\n",
      "        {\n",
      "            \"FirstName\": \"Urwa\",\n",
      "            \"LastName\": \"Amir\",\n",
      "            \"age\": 1\n",
      "        }\n",
      "    ]\n",
      "}\n",
      "\n",
      "--------------------- j_4\n",
      "{\n",
      "    \"name\"= \"amir\"; \n",
      "    \"age\"= 31; \n",
      "    \"city\"= \"karachi\"; \n",
      "    \"hasChildren\"= true; \n",
      "    \"titles\"= [\n",
      "        \"Data-analyst\"; \n",
      "        \"software engeneer\"\n",
      "    ]; \n",
      "    \"children\"= [\n",
      "        {\n",
      "            \"FirstName\"= \"Hamza\"; \n",
      "            \"LastName\"= \"Amir\"; \n",
      "            \"age\"= 7\n",
      "        }; \n",
      "        {\n",
      "            \"FirstName\"= \"Oqba\"; \n",
      "            \"LastName\"= \"Amir\"; \n",
      "            \"age\"= 3\n",
      "        }; \n",
      "        {\n",
      "            \"FirstName\"= \"Urwa\"; \n",
      "            \"LastName\"= \"Amir\"; \n",
      "            \"age\"= 1\n",
      "        }\n",
      "    ]\n",
      "}\n"
     ]
    }
   ],
   "source": [
    "# convert dictionary to JSON format, it is called cerealization OR encoding\n",
    "import json\n",
    "# json.dumps return a string object to see neetly.\n",
    "# json.dump write dictionary to file in json format.\n",
    "j_1 = json.dumps(dict_)\n",
    "j_2 = json.dumps(dict_, sort_keys=True)\n",
    "j_3 = json.dumps(dict_, indent=4)\n",
    "j_4 = json.dumps(dict_, indent=4, separators=('; ', '= '))\n",
    "\n",
    "print(\"\\n--------------------- j_1\")\n",
    "print(j_1)\n",
    "\n",
    "print(\"\\n--------------------- j_2\")\n",
    "print(j_2)\n",
    "\n",
    "print(\"\\n--------------------- j_3\")\n",
    "print(j_3)\n",
    "\n",
    "print(\"\\n--------------------- j_4\")\n",
    "print(j_4)"
   ]
  },
  {
   "cell_type": "code",
   "execution_count": 69,
   "id": "649545aa",
   "metadata": {},
   "outputs": [
    {
     "name": "stdout",
     "output_type": "stream",
     "text": [
      "{\n",
      "    \"name\": \"amir\",\n",
      "    \"age\": 31,\n",
      "    \"city\": \"karachi\",\n",
      "    \"hasChildren\": true,\n",
      "    \"titles\": [\n",
      "        \"Data-analyst\",\n",
      "        \"software engeneer\"\n",
      "    ],\n",
      "    \"children\": [\n",
      "        {\n",
      "            \"FirstName\": \"Hamza\",\n",
      "            \"LastName\": \"Amir\",\n",
      "            \"age\": 7\n",
      "        },\n",
      "        {\n",
      "            \"FirstName\": \"Oqba\",\n",
      "            \"LastName\": \"Amir\",\n",
      "            \"age\": 3\n",
      "        },\n",
      "        {\n",
      "            \"FirstName\": \"Urwa\",\n",
      "            \"LastName\": \"Amir\",\n",
      "            \"age\": 1\n",
      "        }\n",
      "    ]\n",
      "}"
     ]
    }
   ],
   "source": [
    "# wirte DICT to plain file as JSON\n",
    "json.dump(dict_, open('person.json', 'w'), indent=4)\n",
    "!cat person.json"
   ]
  },
  {
   "cell_type": "code",
   "execution_count": 74,
   "id": "68a05c24",
   "metadata": {},
   "outputs": [],
   "source": [
    "# json.load # read from json file and return a dictionary\n",
    "# json.loads # convert json (returned object from json.dumps) to dictionary"
   ]
  },
  {
   "cell_type": "code",
   "execution_count": 71,
   "id": "f668086f",
   "metadata": {},
   "outputs": [
    {
     "data": {
      "text/plain": [
       "{'name': 'amir',\n",
       " 'age': 31,\n",
       " 'city': 'karachi',\n",
       " 'hasChildren': True,\n",
       " 'titles': ['Data-analyst', 'software engeneer'],\n",
       " 'children': [{'FirstName': 'Hamza', 'LastName': 'Amir', 'age': 7},\n",
       "  {'FirstName': 'Oqba', 'LastName': 'Amir', 'age': 3},\n",
       "  {'FirstName': 'Urwa', 'LastName': 'Amir', 'age': 1}]}"
      ]
     },
     "execution_count": 71,
     "metadata": {},
     "output_type": "execute_result"
    }
   ],
   "source": [
    "# convert JSON back to dictiionary format, it is called de-cerealization OR de-coding\n",
    "\n",
    "person_JSON = json.dumps(dict_)\n",
    "json.loads(person_JSON)"
   ]
  },
  {
   "cell_type": "code",
   "execution_count": 73,
   "id": "6aa8e5eb",
   "metadata": {},
   "outputs": [
    {
     "name": "stdout",
     "output_type": "stream",
     "text": [
      "<class 'dict'>\n"
     ]
    },
    {
     "data": {
      "text/plain": [
       "{'name': 'amir',\n",
       " 'age': 31,\n",
       " 'city': 'karachi',\n",
       " 'hasChildren': True,\n",
       " 'titles': ['Data-analyst', 'software engeneer'],\n",
       " 'children': [{'FirstName': 'Hamza', 'LastName': 'Amir', 'age': 7},\n",
       "  {'FirstName': 'Oqba', 'LastName': 'Amir', 'age': 3},\n",
       "  {'FirstName': 'Urwa', 'LastName': 'Amir', 'age': 1}]}"
      ]
     },
     "execution_count": 73,
     "metadata": {},
     "output_type": "execute_result"
    }
   ],
   "source": [
    "# read from JSON as dictionary\n",
    "r = json.load(open(\"person.json\", 'r'))\n",
    "print(type(r))\n",
    "r"
   ]
  },
  {
   "cell_type": "markdown",
   "id": "48edcfcf",
   "metadata": {},
   "source": [
    "# Random numbers"
   ]
  },
  {
   "cell_type": "markdown",
   "id": "09a0c575",
   "metadata": {},
   "source": [
    "### random"
   ]
  },
  {
   "cell_type": "code",
   "execution_count": 189,
   "id": "4c40e513",
   "metadata": {},
   "outputs": [],
   "source": [
    "import random\n",
    "random.random()# generate 1 > float > 0, FROM UNIFORM DISTRIBUTION\n",
    "random.randint(a=1, b=3) # ganerate number from given range (with including upper bound, eg:3 here) FROM UNIFORM DISTRIBUTION\n",
    "random.randrange(start=3) # same as random.randint except the upper bound is excluded, so we can not take 3 here.\n",
    "random.normalvariate(mu=0, sigma=1) # random value from normal distribution\n",
    "random.choice(seq=       ['a', 'm', 'i', 'r', 's', 'a', 'l', 'e', 'e', 'm']) # Choose a random element from a non-empty sequence.\n",
    "random.sample(population=['a', 'm', 'i', 'r', 's', 'a', 'l', 'e', 'e', 'm'],k=3) # Chooses k unique random elements from a population sequence or set\n",
    "random.choices(population=['a', 'm', 'i', 'r', 's', 'a', 'l', 'e', 'e', 'm'],k=3) # same as random.sample but allow repetation\n",
    "x = ['a', 'm', 'i', 'r', 's', 'a', 'l', 'e', 'e', 'm']\n",
    "random.shuffle(x=x) # Shuffle list x in place, and return None."
   ]
  },
  {
   "cell_type": "markdown",
   "id": "49a1457a",
   "metadata": {},
   "source": [
    "### secrets\n",
    "Since random modules generate repreduceable numbers (eg: when we use random.seed) they are not recommended for security purposes, for security perposes  <br> your should use \"secrets\", the \"secrets\" module generates TRUE RANDOM numbers which are not repreduceable"
   ]
  },
  {
   "cell_type": "code",
   "execution_count": 292,
   "id": "f9af0c2a",
   "metadata": {},
   "outputs": [],
   "source": [
    "import secrets\n",
    "secrets.randbelow(exclusive_upper_bound=3) # Return a random int in the range [0, n)\n",
    "secrets.randbits(k=4) # Generates an int with k random bits. (since k=4, the output is 0 to 15 included)\n",
    "secrets.choice(seq=list(\"amir\")) # Choose a random element from a non-empty sequence."
   ]
  },
  {
   "cell_type": "markdown",
   "id": "0193e274",
   "metadata": {},
   "source": [
    "### numpy"
   ]
  },
  {
   "cell_type": "code",
   "execution_count": 323,
   "id": "1fb7595b",
   "metadata": {},
   "outputs": [
    {
     "name": "stdout",
     "output_type": "stream",
     "text": [
      "[[7 8 9]\n",
      " [4 5 6]\n",
      " [1 2 3]]\n"
     ]
    }
   ],
   "source": [
    "import numpy as np\n",
    "np.random.rand(1) # rand(d0, d1, ..., dn) ......... Random values in a given shape. (from unifort distribution)\n",
    "np.random.rand(3,2)\n",
    "np.random.randint(low=10, high=12, size=(3,4)) # Return random integers from `low` (inclusive) to `high` (exclusive). Return random integers from the \"discrete uniform\" distribution of the specified dtype in the \"half-open\" interval [`low`, `high`). If `high` is None (the default), then results are from [0, `low`).\n",
    "arr = np.array([ [1,2,3],[4,5,6],[7,8,9] ])\n",
    "np.random.shuffle(arr) # only shuffle the elements along the first axis (yani k internel lists k srif index change hon gy, [1,2,3] esy hi rahy ga, is ka index change ho jay ga, kabhi ye internal list ka index 0 ho ga, kabhi 1, or kabhi 2 )\n",
    "print(arr)"
   ]
  },
  {
   "cell_type": "markdown",
   "id": "7e1a8a91",
   "metadata": {},
   "source": [
    "# Decorators\n",
    "#### A decorator is a function that takes another function as argument and extends the behaviour of this function without explicitly modifieng it. (in other words: it is allows you to new functionality to an existing function )\n",
    "#### There are 2 type of decorators: <br> &emsp;1- function decorators <br> &emsp;2- class decorators"
   ]
  },
  {
   "cell_type": "code",
   "execution_count": 327,
   "id": "a7f3d0f0",
   "metadata": {},
   "outputs": [],
   "source": [
    "# Function decorator syntax\n",
    "@my_decorator\n",
    "def do_something():\n",
    "    pass"
   ]
  },
  {
   "cell_type": "code",
   "execution_count": 367,
   "id": "79c9d44d",
   "metadata": {},
   "outputs": [
    {
     "name": "stdout",
     "output_type": "stream",
     "text": [
      "Start\n",
      "End\n",
      "------- 64\n"
     ]
    }
   ],
   "source": [
    "# https://www.youtube.com/watch?v=FXUUSfJO_J4&list=PLqnslRFeH2UqLwzS0AwKDKLrpYBKzLBy2&index=13\n",
    "import functools\n",
    "def start_end_decorator(func):\n",
    "    @functools.wraps(func) # preseve the information of our use function\n",
    "    def wrapper(*args, **kwargs):\n",
    "        print(\"Start\")\n",
    "        result = func(*args, **kwargs)\n",
    "        print(\"End\")\n",
    "        return result\n",
    "    return wrapper\n",
    "\n",
    "@start_end_decorator\n",
    "def func_(x):\n",
    "    return x ** 2\n",
    "f = func_(8)\n",
    "print(f\"------- {f}\")"
   ]
  },
  {
   "cell_type": "code",
   "execution_count": 368,
   "id": "3b700b3d",
   "metadata": {},
   "outputs": [
    {
     "name": "stdout",
     "output_type": "stream",
     "text": [
      "Hello Amir\n",
      "Hello Amir\n",
      "Hello Amir\n"
     ]
    }
   ],
   "source": [
    "import functools\n",
    "def repeat(num_times):\n",
    "    def decorator_repeat(func):\n",
    "        @functools.wraps(func)\n",
    "        def wrapper(*args, **kwargs):\n",
    "            for _ in range(num_times):\n",
    "                result = func(*args, **kwargs)\n",
    "            return result\n",
    "        return wrapper\n",
    "    return decorator_repeat\n",
    "\n",
    "@repeat(num_times=3)\n",
    "def greet(name):\n",
    "    print(f\"Hello {name}\")\n",
    "greet('Amir')"
   ]
  },
  {
   "cell_type": "markdown",
   "id": "d9daac1c",
   "metadata": {},
   "source": [
    "# Ganeretors\n",
    "#### Generators are functions that returns an object that can be iterated over. is it lazy, which means that generate the item only one at a time and only when you asked for it. and because of this tehy are much more efficient then other sequences when you have deal with large datasets. \n",
    "#### it is defined as a normal function except we use \"yield\" rether than \"return\". we can use multiple \"yield\"s, all of those yields can be executed in single call (appose to normal return)"
   ]
  },
  {
   "cell_type": "code",
   "execution_count": 382,
   "id": "ca1e3ed9",
   "metadata": {},
   "outputs": [
    {
     "data": {
      "text/plain": [
       "[99, 0, 105]"
      ]
     },
     "execution_count": 382,
     "metadata": {},
     "output_type": "execute_result"
    }
   ],
   "source": [
    "def my_generator():\n",
    "    yield 99\n",
    "    yield 0\n",
    "    yield 105\n",
    "list(my_generator())"
   ]
  },
  {
   "cell_type": "code",
   "execution_count": 383,
   "id": "90a4f661",
   "metadata": {},
   "outputs": [
    {
     "name": "stdout",
     "output_type": "stream",
     "text": [
      "value_0 : 99\n",
      "value_1 : 0\n",
      "value_2 : 105\n",
      "-------\n"
     ]
    },
    {
     "ename": "StopIteration",
     "evalue": "",
     "output_type": "error",
     "traceback": [
      "\u001b[0;31m---------------------------------------------------------------------------\u001b[0m",
      "\u001b[0;31mStopIteration\u001b[0m                             Traceback (most recent call last)",
      "\u001b[0;32m<ipython-input-383-173deb4b1b0b>\u001b[0m in \u001b[0;36m<module>\u001b[0;34m\u001b[0m\n\u001b[1;32m      5\u001b[0m \u001b[0mprint\u001b[0m\u001b[0;34m(\u001b[0m\u001b[0;34mf\"value_0 : {value_0}\\nvalue_1 : {value_1}\\nvalue_2 : {value_2}\"\u001b[0m\u001b[0;34m)\u001b[0m\u001b[0;34m\u001b[0m\u001b[0;34m\u001b[0m\u001b[0m\n\u001b[1;32m      6\u001b[0m \u001b[0mprint\u001b[0m\u001b[0;34m(\u001b[0m\u001b[0;34m\"-------\"\u001b[0m\u001b[0;34m)\u001b[0m\u001b[0;34m\u001b[0m\u001b[0;34m\u001b[0m\u001b[0m\n\u001b[0;32m----> 7\u001b[0;31m \u001b[0mnext\u001b[0m\u001b[0;34m(\u001b[0m\u001b[0mg\u001b[0m\u001b[0;34m)\u001b[0m\u001b[0;34m\u001b[0m\u001b[0;34m\u001b[0m\u001b[0m\n\u001b[0m",
      "\u001b[0;31mStopIteration\u001b[0m: "
     ]
    }
   ],
   "source": [
    "g = my_generator()\n",
    "value_0 = next(g)\n",
    "value_1 = next(g)\n",
    "value_2 = next(g)\n",
    "print(f\"value_0 : {value_0}\\nvalue_1 : {value_1}\\nvalue_2 : {value_2}\")\n",
    "print(\"-------\")\n",
    "next(g)"
   ]
  },
  {
   "cell_type": "code",
   "execution_count": 387,
   "id": "d6861555",
   "metadata": {},
   "outputs": [
    {
     "name": "stdout",
     "output_type": "stream",
     "text": [
      "204\n",
      "[0, 99, 105]\n"
     ]
    }
   ],
   "source": [
    "# we can use generators as input to other functions like: sum, sorted\n",
    "print(sum(my_generator()))\n",
    "print(sorted(my_generator()))"
   ]
  },
  {
   "cell_type": "code",
   "execution_count": 397,
   "id": "6d267e15",
   "metadata": {},
   "outputs": [
    {
     "name": "stdout",
     "output_type": "stream",
     "text": [
      "4999999950000000 859724464\n",
      "4999999950000000 112\n"
     ]
    }
   ],
   "source": [
    "import sys\n",
    "def first_n(n):\n",
    "    nums = []\n",
    "    num = 0\n",
    "    while num < n:\n",
    "        nums.append(num)\n",
    "        num += 1\n",
    "    return nums\n",
    "def first_n_generator(n):\n",
    "    num = 0\n",
    "    while num < n:\n",
    "        yield num\n",
    "        num += 1\n",
    "q = 100000000\n",
    "r_0 = first_n(q)\n",
    "r_1 = first_n_generator(q)\n",
    "print(sum(r_0), sys.getsizeof(r_0))\n",
    "print(sum(r_1), sys.getsizeof(r_1))"
   ]
  },
  {
   "cell_type": "code",
   "execution_count": 400,
   "id": "703acfbf",
   "metadata": {},
   "outputs": [
    {
     "data": {
      "text/plain": [
       "[0, 1, 1, 2, 3, 5, 8, 13, 21]"
      ]
     },
     "execution_count": 400,
     "metadata": {},
     "output_type": "execute_result"
    }
   ],
   "source": [
    "def fibonacci(limit):\n",
    "    a,b = 0,1\n",
    "    while a < limit:\n",
    "        yield a\n",
    "        a, b = b, a+b\n",
    "        \n",
    "fib = fibonacci(30)\n",
    "list(fib)"
   ]
  },
  {
   "cell_type": "code",
   "execution_count": 401,
   "id": "ac88178d",
   "metadata": {},
   "outputs": [
    {
     "name": "stdout",
     "output_type": "stream",
     "text": [
      "<generator object <genexpr> at 0x7f8fac3b0040>\n",
      "[0, 2, 4, 6, 8]\n"
     ]
    }
   ],
   "source": [
    "# generator expression\n",
    "## it is written the same way like  list comprehension but with parentheses instead of square brackets\n",
    "my_generator = (i for i in range(10) if i%2 == 0)\n",
    "print(my_generator)\n",
    "print(list(my_generator))"
   ]
  },
  {
   "cell_type": "markdown",
   "id": "d6164c38",
   "metadata": {},
   "source": [
    "# Threading Vs Multiprocessing\n",
    "\n",
    "### **Process**: An instance of a program (eg: a python interpreter)\n",
    "### Pros:\n",
    "&emsp;Takes advanctage of multiple CPUs and cores<br>\n",
    "&emsp;Seperate memory space -> Memory is not shared between processes<br>\n",
    "&emsp;Great for CPU-bounded processing<br>\n",
    "&emsp;New process is started independently from other processes<br>\n",
    "&emsp;Processes are interruptable/killable<br>\n",
    "&emsp;One GIL for each process -> avoid GIL limitation<br>\n",
    "\n",
    "#### Cons:\n",
    "&emsp;Heavyweight<br>\n",
    "&emsp;Starting a process is slower than starting a thread.<br>\n",
    "&emsp;More memory<br>\n",
    "&emsp;IPC (inter process communication) is more complicated<br>"
   ]
  },
  {
   "cell_type": "markdown",
   "id": "b0898622",
   "metadata": {},
   "source": [
    "### **Threads**: An entity within a process that can be scheduled (also known as \"lightweight process\")<br>\n",
    "A process can spawn multiple threads.<br>\n",
    "\n",
    "#### Pros:\n",
    "&emsp;All threads within a process share the same memory<br>\n",
    "&emsp;leightweight<br>\n",
    "&emsp;Starting a thread is faster than starting a process<br>\n",
    "&emsp;Great for I/O-bound tasks<br>\n",
    "#### Cons:\n",
    "&emsp;Threading is limited by GIL: Only one thread at a time<br>\n",
    "&emsp;No effect for CPU-bound tasks<br>\n",
    "&emsp;Not interruptable/killable<br>\n",
    "&emsp;Careful with race conditinos (when 2 or more threades want to modify the same variable at the same time)<br>"
   ]
  },
  {
   "cell_type": "markdown",
   "id": "c85b0b8e",
   "metadata": {},
   "source": [
    "### GIL: Global interpreter lock\n",
    "A lock that allows only one thread to execute in Python <br>\n",
    "Needed in CPython because memory management is not thread-safe<br>\n",
    "Avoid:<br>\n",
    "&emsp;use multiprocessing<br>\n",
    "&emsp;Use a different, free-threaded Python implementation (jython, IronPython)<br>\n",
    "&emsp;use Python as a wrapper for third-party libraries (C/C++) -> numpy, scipy<br>"
   ]
  },
  {
   "cell_type": "code",
   "execution_count": 406,
   "id": "c862ae9a",
   "metadata": {},
   "outputs": [
    {
     "name": "stdout",
     "output_type": "stream",
     "text": [
      "end-mail 30.58310580253601\n"
     ]
    }
   ],
   "source": [
    "from multiprocessing import Process\n",
    "import os\n",
    "import time\n",
    "start = time.time()\n",
    "def square(sleep_time, n):\n",
    "    for i in range(n):\n",
    "        i * i\n",
    "        time.sleep(sleep_time)\n",
    "        \n",
    "processes = []\n",
    "num_processes = os.cpu_count()\n",
    "\n",
    "# Create processes\n",
    "for i in range(num_processes):\n",
    "    p = Process(target=square, args=(0.3, 100))\n",
    "    processes.append(p)\n",
    "\n",
    "# start\n",
    "for p in processes:\n",
    "    p.start()\n",
    "    \n",
    "# join\n",
    "for p in processes:\n",
    "    p.join()\n",
    "end = time.time()\n",
    "print('end-mail', end-start)"
   ]
  },
  {
   "cell_type": "code",
   "execution_count": 407,
   "id": "ca62220b",
   "metadata": {},
   "outputs": [
    {
     "name": "stdout",
     "output_type": "stream",
     "text": [
      "end-mail 30.039498567581177\n"
     ]
    }
   ],
   "source": [
    "from threading import Thread\n",
    "import os\n",
    "import time\n",
    "start = time.time()\n",
    "def square(sleep_time, n):\n",
    "    for i in range(n):\n",
    "        i * i\n",
    "        time.sleep(sleep_time)\n",
    "        \n",
    "threads = []\n",
    "num_threads = os.cpu_count()\n",
    "\n",
    "# Create processes\n",
    "for i in range(num_threads):\n",
    "    t = Thread(target=square, args=(0.3, 100))\n",
    "    threads.append(t)\n",
    "\n",
    "# start\n",
    "for t in threads:\n",
    "    t.start()\n",
    "    \n",
    "# join\n",
    "for t in threads:\n",
    "    t.join()\n",
    "end = time.time()\n",
    "print('end-mail', end-start)"
   ]
  },
  {
   "cell_type": "code",
   "execution_count": 4,
   "id": "c74bff6a",
   "metadata": {},
   "outputs": [
    {
     "name": "stdout",
     "output_type": "stream",
     "text": [
      "start values: 0\n",
      "end values: 1\n",
      "Time: 0.30180811882019043\n"
     ]
    }
   ],
   "source": [
    "# https://www.youtube.com/watch?v=usyg5vbni34&list=PLqnslRFeH2UqLwzS0AwKDKLrpYBKzLBy2&index=20\n",
    "# jab pehla thread chala or sleep par pohoncha to dusra thread chal gya, or wo bhi sleep par pohonch gya, ab wo masla aa gya k 1 hi variable ko 1 hi \n",
    "# time me 2 threads change karny ki koshish kar rahy hen, is lye hamaray pas last value 2 aani chahye thi, magar wo 1 i h.\n",
    "\n",
    "from threading import Thread\n",
    "import time\n",
    "start = time.time()\n",
    "database_value = 0\n",
    "\n",
    "def increase():\n",
    "    global database_value\n",
    "\n",
    "    local_copy = database_value\n",
    "\n",
    "    # processing\n",
    "    local_copy += 1\n",
    "    time.sleep(0.3)\n",
    "    database_value = local_copy\n",
    "\n",
    "print(f'start values: {database_value}')\n",
    "\n",
    "thread_1 = Thread(target=increase)\n",
    "thread_2 = Thread(target=increase)\n",
    "\n",
    "thread_1.start()\n",
    "thread_2.start()\n",
    "\n",
    "thread_1.join()\n",
    "thread_2.join()\n",
    "\n",
    "print(f'end values: {database_value}')\n",
    "print(f\"Time: {time.time() - start}\")"
   ]
  },
  {
   "cell_type": "code",
   "execution_count": 6,
   "id": "76999e80",
   "metadata": {},
   "outputs": [
    {
     "name": "stdout",
     "output_type": "stream",
     "text": [
      "start values: 0\n",
      "end values: 2\n",
      "Time: 0.6028835773468018\n"
     ]
    }
   ],
   "source": [
    "# https://www.youtube.com/watch?v=usyg5vbni34&list=PLqnslRFeH2UqLwzS0AwKDKLrpYBKzLBy2&index=20\n",
    "# privous cell k problem ko solve karny k lye ham Lock use karen  gy, ham 1 process ko lock kar den gy, jab pehla thread wahan pohonchy ga to wo block\n",
    "# lock ho jay ga, or pehla thread sleep par chala jay ga, pehly thread k sleep par jaty he dusra thread chal jay ga magar q k wo block lock hwa ho ga\n",
    "# or abhi tak pehly thread sy releaze nahi hwa ho ga is lye dusra thread wait kary ga, pehly thread jab block ko release kar dy ga to dusra thread andar aa gay\n",
    "# or us ko block kar k apna kam kar ly ga.\n",
    "\n",
    "from threading import Thread\n",
    "from threading import Lock # new\n",
    "import time\n",
    "start = time.time()\n",
    "database_value = 0\n",
    "\n",
    "# def increase():\n",
    "def increase(lock): # new\n",
    "    global database_value\n",
    "    \n",
    "    lock.acquire() # new # yahan par neechy wala poora block (lock.release sy pehly pehly tak) 1 waqt me 1 hi thread use kar sakty hen.\n",
    "    \n",
    "    local_copy = database_value\n",
    "\n",
    "    # processing\n",
    "    local_copy += 1\n",
    "    time.sleep(0.3)\n",
    "    database_value = local_copy\n",
    "\n",
    "    lock.release() # new\n",
    "    \n",
    "def increase_2(lock):\n",
    "    global database_value\n",
    "    with lock:\n",
    "        local_copy = database_value\n",
    "        local_copy += 1\n",
    "        time.sleep(0.3)\n",
    "        database_value = local_copy\n",
    "# BOTH increase and increase_2 are identical, we can use <with lock> and remove <lock.acquire> and <lock.release> \n",
    "\n",
    "lock = Lock()  # new\n",
    "print(f'start values: {database_value}')\n",
    "\n",
    "# thread_1 = Thread(target=increase)\n",
    "thread_1 = Thread(target=increase, args=(lock,)) #new\n",
    "\n",
    "# thread_2 = Thread(target=increase)\n",
    "thread_2 = Thread(target=increase, args=(lock,)) #new\n",
    "\n",
    "thread_1.start()\n",
    "thread_2.start()\n",
    "\n",
    "thread_1.join()\n",
    "thread_2.join()\n",
    "\n",
    "print(f'end values: {database_value}')\n",
    "print(f\"Time: {time.time() - start}\")"
   ]
  },
  {
   "cell_type": "code",
   "execution_count": 7,
   "id": "9eae4a42",
   "metadata": {},
   "outputs": [
    {
     "name": "stdout",
     "output_type": "stream",
     "text": [
      "Multiprocessing: 0.42177844047546387\n",
      "Normal:          3.0676586627960205\n",
      "\n",
      "Q:   is Both outputs are same?:\n",
      "Ans: Yes\n"
     ]
    }
   ],
   "source": [
    "from multiprocessing import Pool\n",
    "import time\n",
    "\n",
    "def cube(number):\n",
    "    time.sleep(0.01)\n",
    "    return number ** 2\n",
    "\n",
    "numbers = range(300)\n",
    "\n",
    "# Multiprocessing\n",
    "\n",
    "pool = Pool()\n",
    "\n",
    "start = time.time()\n",
    "\n",
    "result = sum(\n",
    "    pool.map(cube, numbers)\n",
    ")\n",
    "pool.close()\n",
    "pool.join()\n",
    "\n",
    "end = time.time()\n",
    "print(\"Multiprocessing:\", end - start)\n",
    "\n",
    "# Normal\n",
    "start = time.time()\n",
    "result_2 = sum(\n",
    "    list(map(cube, tuple(numbers)))\n",
    ")\n",
    "end = time.time()\n",
    "print(\"Normal:         \", end - start)\n",
    "\n",
    "\n",
    "print(f\"\\nQ:   is Both outputs are same?:\\nAns: {'Yes' if result == result_2 else 'No'}\")"
   ]
  },
  {
   "cell_type": "markdown",
   "id": "1bc82d4e",
   "metadata": {},
   "source": [
    "# Perameters and Arguments"
   ]
  },
  {
   "cell_type": "code",
   "execution_count": 1,
   "id": "d58e79ac",
   "metadata": {},
   "outputs": [
    {
     "name": "stdout",
     "output_type": "stream",
     "text": [
      "Amir\n"
     ]
    }
   ],
   "source": [
    "def print_name(name):  # the <name> here is the perameter\n",
    "    print(name)\n",
    "N = \"Amir\"\n",
    "print_name(N)          # the <N> here is the argument"
   ]
  },
  {
   "cell_type": "code",
   "execution_count": 24,
   "id": "ab63e6c3",
   "metadata": {},
   "outputs": [
    {
     "name": "stdout",
     "output_type": "stream",
     "text": [
      "1 2 3\n",
      "1 2 3\n",
      "1 2 3\n",
      "1 2 3\n",
      "1 2 3\n"
     ]
    }
   ],
   "source": [
    "# default perameter is must be in the end\n",
    "\n",
    "def foo(a, b, c):\n",
    "    print(a, b, c)\n",
    "a,b,c = 1,2,3\n",
    "foo(a,b,c)\n",
    "foo(a=a, b=b, c=c)\n",
    "foo(b=b, c=c, a=a) #  when we use keyword arguments the order of arguments is not matter\n",
    "foo(a, b=b, c=c)\n",
    "foo(a, c=c, b=b)\n",
    "# foo(a, c=c, a=a) # wrong, the first argument (a) is considered a in the function, and adding adding more a (as we did here) is like (foo(a=a, c=c, a=a))\n",
    "# foo(a, b=b, c) # wrong, you can not use positinal argument after keyword argument"
   ]
  },
  {
   "cell_type": "code",
   "execution_count": 38,
   "id": "89c23265",
   "metadata": {},
   "outputs": [
    {
     "name": "stdout",
     "output_type": "stream",
     "text": [
      "-------------------\n",
      "1 2 3  # a,b,c\n",
      "-------------------\n",
      "1 2 3  # a,b,c\n",
      "7  # from positional_args\n",
      "4  # from positional_args\n",
      "six = 6 # from keyword_args\n",
      "seven = 7 # from keyword_args\n",
      "-------------------\n",
      "1 2 3  # a,b,c\n",
      "7  # from positional_args\n",
      "4  # from positional_args\n",
      "-------------------\n",
      "1 2 3  # a,b,c\n",
      "six = 6 # from keyword_args\n",
      "seven = 7 # from keyword_args\n"
     ]
    }
   ],
   "source": [
    "# by using <*args>    you can give any number of POSITIONAL arguments\n",
    "# by using <**kwargs> you can give any number of KEY-WORD   arguments\n",
    "\n",
    "# <*args> and <**kwargs> me <args|kwargs> srif variable names h, is me zaroori cheez srif <*|**> h, ham isy u bhi use kar sakty hen: <*q_, **f_> \n",
    "\n",
    "# <*args>    is the tuple\n",
    "# <**kwargs> is the dictionay\n",
    "\n",
    "def foo(a,b,c, *positional_args, **keyword_args):\n",
    "    print(\"-------------------\")\n",
    "    print(a,b,c, \" # a,b,c\")\n",
    "    for i in positional_args:\n",
    "        print(i, \" # from positional_args\")\n",
    "    for k,v in keyword_args.items():\n",
    "        print(f\"{k} = {v} # from keyword_args\")\n",
    "foo(1,2,3)\n",
    "foo(1,2,3,7,4,six=6, seven=7)\n",
    "foo(1,2,3,7,4)\n",
    "foo(1,2,3,six=6, seven=7)"
   ]
  },
  {
   "cell_type": "code",
   "execution_count": 56,
   "id": "13832841",
   "metadata": {},
   "outputs": [
    {
     "name": "stdout",
     "output_type": "stream",
     "text": [
      "1 2 3 4\n"
     ]
    }
   ],
   "source": [
    "def foo(a,b,*,c,d): # every peramter after <*> must be keyword. this is to enfore only_keyword arguments\n",
    "    print(a,b,c,d)\n",
    "# foo(1,2,3,4) # error, cause: c and d must be keyword arguments\n",
    "foo(1,2,c=3,d=4)"
   ]
  },
  {
   "cell_type": "code",
   "execution_count": 63,
   "id": "f6a1657d",
   "metadata": {},
   "outputs": [
    {
     "name": "stdout",
     "output_type": "stream",
     "text": [
      "------------------\n",
      "(1, 2)\n",
      "4 # last\n",
      "------------------\n",
      "(1, 2, 4, 3, 4, 5, 6, 3, 3)\n",
      "4 # last\n"
     ]
    }
   ],
   "source": [
    "def foo(*args, last): # every peramter after <*args> must be keyword \n",
    "    print(\"------------------\")\n",
    "    print(args)\n",
    "    print(last, \"# last\")\n",
    "# foo(1,2,3,4) # error, cause: <last> must be keyword arguments # TypeError: foo() missing 1 required keyword-only argument: 'last'\n",
    "foo(1,2,last=4)\n",
    "foo(1,2,4,3,4,5,6,3,3,last=4)"
   ]
  },
  {
   "cell_type": "code",
   "execution_count": 67,
   "id": "5f033c00",
   "metadata": {},
   "outputs": [
    {
     "name": "stdout",
     "output_type": "stream",
     "text": [
      "-----------------\n",
      "1 2 3\n",
      "-----------------\n",
      "1 2 3\n"
     ]
    }
   ],
   "source": [
    "# unpacking\n",
    "def foo(a,b,c):\n",
    "    print(\"-----------------\")\n",
    "    print(a,b,c)\n",
    "x = (1,2,3)\n",
    "x_d = dict(c=3, a=1, b=2)\n",
    "foo(*x)    #          length is MUST MATCH the perameters\n",
    "foo(**x_d) # keys and length is MUST MATCH the perameters"
   ]
  },
  {
   "cell_type": "code",
   "execution_count": 85,
   "id": "a1c1a06f",
   "metadata": {},
   "outputs": [
    {
     "name": "stdout",
     "output_type": "stream",
     "text": [
      "Before function call:             9785152\n",
      "In function, before modification: 9785152\n",
      "In function, after  modification: 9785280\n",
      "9\n"
     ]
    }
   ],
   "source": [
    "def foo(_int):\n",
    "    print(\"In function, before modification:\", id(_int))\n",
    "    _int += 4 # this will create a new LOCAL int\n",
    "    print(\"In function, after  modification:\", id(_int))\n",
    "_int = 9\n",
    "print(\"Before function call:            \", id(_int))\n",
    "foo(_int)\n",
    "print(_int) # Since the value is immutable it is NOT changed.\n",
    "# is ka matlab he hwa k function ny value(_int here) ko copy nahi kya balky same id ko refer kar dya, magar jab ham ny is value ko cahgne karna chaha \n",
    "# to us ny check kya, since wo value immutable thi to us ny 1 new value (jo k srif local me hi h) create kar li."
   ]
  },
  {
   "cell_type": "code",
   "execution_count": 91,
   "id": "7eb13fa1",
   "metadata": {},
   "outputs": [
    {
     "name": "stdout",
     "output_type": "stream",
     "text": [
      "Before function call:             140679239562432\n",
      "In function, before modification: 140679239562432\n",
      "In function, after  modification: 140679239562432\n",
      "[9, 4]\n"
     ]
    }
   ],
   "source": [
    "def foo(_list):\n",
    "    print(\"In function, before modification:\", id(_list))\n",
    "    _list.append(4)  # this will CHANGE this list IN GLOBAL\n",
    "    print(\"In function, after  modification:\", id(_list))\n",
    "_list = [9]\n",
    "print(\"Before function call:            \", id(_list))\n",
    "foo(_list)\n",
    "print(_list) # Since the value is mutable it is CHANGED.\n",
    "# function me value copy nahi hwi, balky us ki id copy hwi h, ab function k andar jo list h wo GLOBAL h, us me jo bhi changings ho gi wo outside \n",
    "# of the function be effective hon gi"
   ]
  },
  {
   "cell_type": "code",
   "execution_count": 90,
   "id": "974540b1",
   "metadata": {},
   "outputs": [
    {
     "name": "stdout",
     "output_type": "stream",
     "text": [
      "Before function call:             140679239747328\n",
      "In function, before modification: 140679239747328\n",
      "In function, after  modification: 140679239747328\n",
      "[-90, 10]\n"
     ]
    }
   ],
   "source": [
    "def foo(_list):\n",
    "    print(\"In function, before modification:\", id(_list))\n",
    "    _list[0] = -90 # this will CHANGE this list IN GLOBAL\n",
    "    print(\"In function, after  modification:\", id(_list))\n",
    "_list = [0, 10]\n",
    "print(\"Before function call:            \", id(_list))\n",
    "foo(_list)\n",
    "print(_list) # Since the value is mutable it is CHANGED.\n",
    "# function me value copy nahi hwi, balky us ki id copy hwi h, ab function k andar jo list h wo GLOBAL h, us me jo bhi changings ho gi wo outside \n",
    "# of the function be effective hon gi"
   ]
  },
  {
   "cell_type": "code",
   "execution_count": 96,
   "id": "596186d2",
   "metadata": {},
   "outputs": [
    {
     "name": "stdout",
     "output_type": "stream",
     "text": [
      "Before function call:             140679238056256\n",
      "In function, before modification: 140679238056256\n",
      "In function, after  modification: 140679238056256\n",
      "[0, 10, 99, 88, 77]\n"
     ]
    }
   ],
   "source": [
    "def foo(_list):\n",
    "    print(\"In function, before modification:\", id(_list))\n",
    "    _list +=  [99,88,77] # this will CHANGE this list IN GLOBAL\n",
    "    print(\"In function, after  modification:\", id(_list))\n",
    "_list = [0, 10]\n",
    "print(\"Before function call:            \", id(_list))\n",
    "foo(_list)\n",
    "print(_list) # Since the value is mutable it is CHANGED.\n",
    "# function me value copy nahi hwi, balky us ki id copy hwi h, ab function k andar jo list h wo GLOBAL h, us me jo bhi changings ho gi wo outside \n",
    "# of the function be effective hon gi"
   ]
  },
  {
   "cell_type": "code",
   "execution_count": 98,
   "id": "7281a59e",
   "metadata": {},
   "outputs": [
    {
     "name": "stdout",
     "output_type": "stream",
     "text": [
      "Before function call:             140679238388992\n",
      "In function, before modification: 140679238388992\n",
      "In function, after  modification: 140679239179776\n",
      "[0, 10]\n"
     ]
    }
   ],
   "source": [
    "def foo(_list):\n",
    "    print(\"In function, before modification:\", id(_list))\n",
    "    _list = _list +  [99,88,77] # this will CHANGE this list IN GLOBAL\n",
    "    print(\"In function, after  modification:\", id(_list))\n",
    "_list = [0, 10]\n",
    "print(\"Before function call:            \", id(_list))\n",
    "foo(_list)\n",
    "print(_list) # Since the value is mutable it is CHANGED.\n",
    "# function me value copy nahi hwi, balky us ki id copy hwi h, magar jab ham ny is list ki koi value change ya new value add karny k bajay is \n",
    "# name <_list> me poori new list assign kari to us ny 1 new LOCAL variable bana dya. "
   ]
  },
  {
   "cell_type": "code",
   "execution_count": 93,
   "id": "8b320e02",
   "metadata": {},
   "outputs": [
    {
     "name": "stdout",
     "output_type": "stream",
     "text": [
      "Before function call:             140679238049216\n",
      "In function, before modification: 140679238049216\n",
      "In function, after  modification: 140679239562432\n",
      "[0, 10]\n"
     ]
    }
   ],
   "source": [
    "def foo(_list):\n",
    "    print(\"In function, before modification:\", id(_list))\n",
    "    _list = [99,88,77] # this will create a new LOCAL list\n",
    "    print(\"In function, after  modification:\", id(_list))\n",
    "_list = [0, 10]\n",
    "print(\"Before function call:            \", id(_list))\n",
    "foo(_list)\n",
    "print(_list) # Since the value is mutable it is CHANGED.\n",
    "# function me value copy nahi hwi, balky us ki id copy hwi h, magar jab ham ny is list ki koi value change ya new value add karny k bajay is \n",
    "# name <_list> me poori new list assign kari to us ny 1 new LOCAL variable bana dya. "
   ]
  },
  {
   "cell_type": "code",
   "execution_count": 100,
   "id": "1d7c8f53",
   "metadata": {},
   "outputs": [],
   "source": [
    "# Concusion\n",
    "def foo(_int, _list):\n",
    "    _int += 4                   # this will create a new LOCAL int\n",
    "    _list.append(4)             # this will CHANGE this list IN GLOBAL\n",
    "    _list[0] = -90              # this will CHANGE this list IN GLOBAL\n",
    "    _list +=  [99,88,77]        # this will CHANGE this list IN GLOBAL\n",
    "    _list = _list +  [99,88,77] # this will CHANGE this list IN GLOBAL\n",
    "    _list = [99,88,77]          # this will create a new LOCAL list"
   ]
  },
  {
   "cell_type": "markdown",
   "id": "d338c74f",
   "metadata": {},
   "source": [
    "# unpacking\n",
    "#### unpacking always return a lists"
   ]
  },
  {
   "cell_type": "code",
   "execution_count": 103,
   "id": "9c826e27",
   "metadata": {},
   "outputs": [
    {
     "name": "stdout",
     "output_type": "stream",
     "text": [
      "[1, 2, 3, 4]\n",
      "5\n"
     ]
    }
   ],
   "source": [
    "numbers = [1,2,3,4,5]\n",
    "*first_4, last = numbers\n",
    "print(first_4)\n",
    "print(last)"
   ]
  },
  {
   "cell_type": "code",
   "execution_count": 107,
   "id": "b89408fe",
   "metadata": {},
   "outputs": [
    {
     "name": "stdout",
     "output_type": "stream",
     "text": [
      "1\n",
      "[2, 3, 4, 5]\n"
     ]
    }
   ],
   "source": [
    "numbers = [1,2,3,4,5]\n",
    "first_1, *last_4 = numbers\n",
    "print(first_1)\n",
    "print(last_4)"
   ]
  },
  {
   "cell_type": "code",
   "execution_count": 106,
   "id": "6541ee3f",
   "metadata": {},
   "outputs": [
    {
     "name": "stdout",
     "output_type": "stream",
     "text": [
      "1\n",
      "2\n",
      "[3, 4, 5, 6]\n",
      "7\n"
     ]
    }
   ],
   "source": [
    "numbers = [1,2,3,4,5,6,7]\n",
    "a,b,*c,last = numbers\n",
    "print(a)\n",
    "print(b)\n",
    "print(c)\n",
    "print(last)"
   ]
  },
  {
   "cell_type": "code",
   "execution_count": 116,
   "id": "734ab451",
   "metadata": {},
   "outputs": [
    {
     "name": "stdout",
     "output_type": "stream",
     "text": [
      "[1, 2, 3, 4, 5, 6, 8, 9, 7]\n"
     ]
    }
   ],
   "source": [
    "my_tuple = (1,2,3)\n",
    "my_list = [4,5,6]\n",
    "my_set = {7,8,9}\n",
    "x = [*my_tuple, *my_list, *my_set]\n",
    "print(x)"
   ]
  },
  {
   "cell_type": "code",
   "execution_count": 118,
   "id": "bdee8814",
   "metadata": {},
   "outputs": [
    {
     "name": "stdout",
     "output_type": "stream",
     "text": [
      "{'a': 10, 'b': 22, 'c': 3, 'd': 4, 'e': 5, 'f': 6}\n"
     ]
    }
   ],
   "source": [
    "d_1 = dict(a=1,b=2,c=3)\n",
    "d_2 = dict(a=10,d=4,e=5)\n",
    "d_3 = dict(f=6,b=22)\n",
    "\n",
    "new_dict = {**d_1, **d_2, **d_3}\n",
    "print(new_dict)"
   ]
  },
  {
   "cell_type": "markdown",
   "id": "8ed8086b",
   "metadata": {},
   "source": [
    "# Copy: shellow and Deep\n",
    "#### immutable me to koi masla nahi hota q k agarcha assignment k waqt to dono 1 hi object ko refer kar rahy hoty hen magar immutable ko agar change<br>nahi karen gy to wo dono same hi rahen gy or agar change karen gy to bilkul new initilization ho gi jis ki wajah sy copy or original alal alag<br>objects ko refer karna start ho jaen gy. masla to mutable me hota h, jis me after shellow copy koi midification ho jay to is modification k bad <br>bhi wo copy and original 1 hi object ko refer kar rahy hoty hen"
   ]
  },
  {
   "cell_type": "code",
   "execution_count": 126,
   "id": "45394e3e",
   "metadata": {},
   "outputs": [
    {
     "name": "stdout",
     "output_type": "stream",
     "text": [
      "False\n",
      "False\n",
      "True\n",
      "False\n"
     ]
    }
   ],
   "source": [
    "# immutable\n",
    "# immutable me to variable me modificatn hi nahi ho sakti, to agar wo modify ho ga to is ka matlab h k us me new value assign ho gi, or \n",
    "# new value assign karny sy new variable define ho ga, jis ka apny pihchly name space ki value sy koi talluq nahi ho ga.\n",
    "x = 4\n",
    "y = x\n",
    "x = 5\n",
    "\n",
    "x_t = (4,3)\n",
    "y_t = x_t\n",
    "x_t = (4,4)\n",
    "\n",
    "# mutable\n",
    "x_l = [4,3]\n",
    "y_l = x_l\n",
    "x_l[0] = 99\n",
    "\n",
    "# mutable me bhi agar poori value hi new assign kar den to koi masla nahi\n",
    "x_ll = [4,3]\n",
    "y_ll = x_l\n",
    "x_ll = [3,4]\n",
    "\n",
    "\n",
    "\n",
    "print(x==y)\n",
    "print(x_t == y_t)\n",
    "print(x_l == y_l)\n",
    "print(x_ll == y_ll)"
   ]
  },
  {
   "cell_type": "code",
   "execution_count": 130,
   "id": "a7e94f3e",
   "metadata": {},
   "outputs": [
    {
     "name": "stdout",
     "output_type": "stream",
     "text": [
      "140678897510784\n",
      "140678897510784\n",
      "140678898141248\n",
      "140678902147456\n",
      "140678899458560\n"
     ]
    }
   ],
   "source": [
    "import copy\n",
    "org = [1,2,3,4]\n",
    "cp_1 =  org\n",
    "cp_2 = org[:]\n",
    "cp_3 = org.copy()\n",
    "cp_4 = copy.copy(org)\n",
    "\n",
    "for i in [org, cp_1, cp_2, cp_3, cp_4]:\n",
    "    print(id(i))"
   ]
  },
  {
   "cell_type": "code",
   "execution_count": 138,
   "id": "11cba13d",
   "metadata": {},
   "outputs": [
    {
     "name": "stdout",
     "output_type": "stream",
     "text": [
      "[[-100, 2, 3, 4], [5, 6, 7, 8]]\n",
      "[[-100, 2, 3, 4], [5, 6, 7, 8]]\n",
      "\n",
      "[[-100, -200, 3, 4], [5, 6, 7, 8]]\n",
      "[[-100, -200, 3, 4], [5, 6, 7, 8]]\n",
      "\n",
      "[[-100, -200, -300, 4], [5, 6, 7, 8]]\n",
      "[[-100, -200, -300, 4], [5, 6, 7, 8]]\n",
      "\n",
      "[[-100, -200, -300, -400], [5, 6, 7, 8]]\n",
      "[[-100, -200, -300, 4], [5, 6, 7, 8]]\n",
      "\n"
     ]
    }
   ],
   "source": [
    "import copy\n",
    "# copy k method sy jo copy hoti h wo 1 level deep hoti h, it means k nested list me ki gai changings dono me hon gi\n",
    "org = [[1,2,3,4], [5,6,7,8]]\n",
    "cp_1 = org[:]\n",
    "org[0][0] = -100\n",
    "print(org)\n",
    "print(cp_1)\n",
    "print()\n",
    "\n",
    "cp_2 = org.copy()\n",
    "org[0][1] = -200\n",
    "print(org)\n",
    "print(cp_2)\n",
    "print()\n",
    "\n",
    "cp_3 = copy.copy(org)\n",
    "org[0][2] = -300\n",
    "print(org)\n",
    "print(cp_3)\n",
    "print()\n",
    "\n",
    "# multilevel copy # RIGHT WAY TO COPY DEEP STRUCTURES\n",
    "cp_3 = copy.deepcopy(org)\n",
    "org[0][3] = -400\n",
    "print(org)\n",
    "print(cp_3)\n",
    "print()\n"
   ]
  },
  {
   "cell_type": "code",
   "execution_count": 140,
   "id": "872dbd21",
   "metadata": {},
   "outputs": [
    {
     "name": "stdout",
     "output_type": "stream",
     "text": [
      "31\n",
      "30\n"
     ]
    }
   ],
   "source": [
    "import copy\n",
    "class Person:\n",
    "    def __init__(self, name, age):\n",
    "        self.name = name\n",
    "        self.age = age\n",
    "p1 = Person('Amir', 31)\n",
    "p2 = copy.copy(p1)\n",
    "p2.age = 30\n",
    "print(p1.age)\n",
    "print(p2.age)"
   ]
  },
  {
   "cell_type": "code",
   "execution_count": 149,
   "id": "dcfd2dd8",
   "metadata": {},
   "outputs": [
    {
     "name": "stdout",
     "output_type": "stream",
     "text": [
      "56\n",
      "56\n",
      "\n",
      "100\n",
      "56\n",
      "\n"
     ]
    }
   ],
   "source": [
    "# as we discussed eirlear, the copy.copy method fail when there is deeper structure.\n",
    "# we will chagne company_clone.boss.age and company.boss.age change automaically\n",
    "# eg:\n",
    "class Company:\n",
    "    def __init__(self, boss, employee):\n",
    "        self.boss = boss\n",
    "        self.employee = employee\n",
    "\n",
    "company = Company(p1, p2)\n",
    "company_clone =  copy.copy(company)\n",
    "company_clone.boss.age = 56\n",
    "print(company_clone.boss.age)\n",
    "print(company.boss.age)\n",
    "print()\n",
    "\n",
    "# deepcopy\n",
    "company_clone =  copy.deepcopy(company)\n",
    "company_clone.boss.age = 100\n",
    "print(company_clone.boss.age)\n",
    "print(company.boss.age)\n",
    "print()"
   ]
  },
  {
   "cell_type": "markdown",
   "id": "907b9a64",
   "metadata": {},
   "source": [
    "# context managers"
   ]
  },
  {
   "cell_type": "markdown",
   "id": "000c8505",
   "metadata": {},
   "source": [
    "### with\n",
    "#### with ko use karny ka faida ye hota h k aap ko file ko close nahi karna parta, jab <with> ka block khatam ho ga tab file khud hi close ho jay gi, yani k <br> us block k bad aap file me kuch write nahi kar sakty, q k file close ho chuki h"
   ]
  },
  {
   "cell_type": "code",
   "execution_count": 12,
   "id": "d8efefb7",
   "metadata": {},
   "outputs": [
    {
     "name": "stdout",
     "output_type": "stream",
     "text": [
      "amir"
     ]
    }
   ],
   "source": [
    "!rm -f file.txT\n",
    "with open(\"file.txT\", 'w') as file:\n",
    "    file.write(\"amir\")\n",
    "!cat file.txT"
   ]
  },
  {
   "cell_type": "code",
   "execution_count": 22,
   "id": "607a588e",
   "metadata": {},
   "outputs": [],
   "source": [
    "# with open(\"file.txT\", 'w') as file:\n",
    "#     file.write(\"amir\")\n",
    "\n",
    "# above code is equelent to below code\n",
    "\n",
    "# file = open(\"file.txT\", 'w')\n",
    "# try:\n",
    "#     file.write(\"amir\")\n",
    "# finally:\n",
    "#     file.close()"
   ]
  },
  {
   "cell_type": "code",
   "execution_count": 13,
   "id": "7bce2890",
   "metadata": {},
   "outputs": [],
   "source": [
    "!rm -f file.txT\n",
    "f = open(\"file.txT\", 'w')\n",
    "f.write(\"amir\")\n",
    "!cat file.txT"
   ]
  },
  {
   "cell_type": "code",
   "execution_count": 14,
   "id": "005cf2d6",
   "metadata": {},
   "outputs": [
    {
     "name": "stdout",
     "output_type": "stream",
     "text": [
      "amir"
     ]
    }
   ],
   "source": [
    "!rm -f file.txT\n",
    "f = open(\"file.txT\", 'w')\n",
    "f.write(\"amir\")\n",
    "f.close() # added here\n",
    "!cat file.txT"
   ]
  },
  {
   "cell_type": "code",
   "execution_count": 18,
   "id": "5e140b82",
   "metadata": {},
   "outputs": [
    {
     "name": "stdout",
     "output_type": "stream",
     "text": [
      "amir"
     ]
    }
   ],
   "source": [
    "!rm -f file.txT\n",
    "open(\"file.txT\", 'w').write(\"amir\")\n",
    "!cat file.txT"
   ]
  },
  {
   "cell_type": "code",
   "execution_count": 19,
   "id": "a4640fd1",
   "metadata": {},
   "outputs": [
    {
     "ename": "ValueError",
     "evalue": "I/O operation on closed file.",
     "output_type": "error",
     "traceback": [
      "\u001b[0;31m---------------------------------------------------------------------------\u001b[0m",
      "\u001b[0;31mValueError\u001b[0m                                Traceback (most recent call last)",
      "\u001b[0;32m<ipython-input-19-62d0c432f196>\u001b[0m in \u001b[0;36m<module>\u001b[0;34m\u001b[0m\n\u001b[1;32m      2\u001b[0m \u001b[0;32mwith\u001b[0m \u001b[0mopen\u001b[0m\u001b[0;34m(\u001b[0m\u001b[0;34m\"file.txT\"\u001b[0m\u001b[0;34m,\u001b[0m \u001b[0;34m'w'\u001b[0m\u001b[0;34m)\u001b[0m \u001b[0;32mas\u001b[0m \u001b[0mfile\u001b[0m\u001b[0;34m:\u001b[0m\u001b[0;34m\u001b[0m\u001b[0;34m\u001b[0m\u001b[0m\n\u001b[1;32m      3\u001b[0m     \u001b[0mfile\u001b[0m\u001b[0;34m.\u001b[0m\u001b[0mwrite\u001b[0m\u001b[0;34m(\u001b[0m\u001b[0;34m\"amir\"\u001b[0m\u001b[0;34m)\u001b[0m\u001b[0;34m\u001b[0m\u001b[0;34m\u001b[0m\u001b[0m\n\u001b[0;32m----> 4\u001b[0;31m \u001b[0mfile\u001b[0m\u001b[0;34m.\u001b[0m\u001b[0mwrite\u001b[0m\u001b[0;34m(\u001b[0m\u001b[0;34m\"\\nnew_line\"\u001b[0m\u001b[0;34m)\u001b[0m\u001b[0;34m\u001b[0m\u001b[0;34m\u001b[0m\u001b[0m\n\u001b[0m\u001b[1;32m      5\u001b[0m \u001b[0mget_ipython\u001b[0m\u001b[0;34m(\u001b[0m\u001b[0;34m)\u001b[0m\u001b[0;34m.\u001b[0m\u001b[0msystem\u001b[0m\u001b[0;34m(\u001b[0m\u001b[0;34m'cat file.txT'\u001b[0m\u001b[0;34m)\u001b[0m\u001b[0;34m\u001b[0m\u001b[0;34m\u001b[0m\u001b[0m\n",
      "\u001b[0;31mValueError\u001b[0m: I/O operation on closed file."
     ]
    }
   ],
   "source": [
    "!rm -f file.txT\n",
    "with open(\"file.txT\", 'w') as file:\n",
    "    file.write(\"amir\")\n",
    "file.write(\"\\nnew_line\")\n",
    "!cat file.txT"
   ]
  },
  {
   "cell_type": "code",
   "execution_count": 20,
   "id": "852d8ffb",
   "metadata": {},
   "outputs": [],
   "source": [
    "!rm -f file.txT\n",
    "file = open(\"file.txT\", 'w')\n",
    "file.write(\"amir\")\n",
    "file.write(\"\\nnew_line\")\n",
    "!cat file.txT"
   ]
  },
  {
   "cell_type": "code",
   "execution_count": 21,
   "id": "8a9ee0f1",
   "metadata": {},
   "outputs": [
    {
     "name": "stdout",
     "output_type": "stream",
     "text": [
      "amir\n",
      "new_line"
     ]
    }
   ],
   "source": [
    "!rm -f file.txT\n",
    "file = open(\"file.txT\", 'w')\n",
    "file.write(\"amir\")\n",
    "file.write(\"\\nnew_line\")\n",
    "file.close()\n",
    "!cat file.txT"
   ]
  },
  {
   "cell_type": "code",
   "execution_count": null,
   "id": "f39575fc-9707-46dd-aa20-9dc6024d4899",
   "metadata": {},
   "outputs": [],
   "source": []
  },
  {
   "cell_type": "code",
   "execution_count": null,
   "id": "7ac9ea45-4358-4f0e-a8f0-cf1772912f8f",
   "metadata": {},
   "outputs": [],
   "source": []
  },
  {
   "cell_type": "markdown",
   "id": "1e211bff-ef05-47bd-88e2-f46281c56a92",
   "metadata": {},
   "source": [
    "# https://www.youtube.com/watch?v=8OKTAedgFYg"
   ]
  },
  {
   "cell_type": "markdown",
   "id": "399eb774-b078-4e6d-af8b-eb0000406553",
   "metadata": {},
   "source": [
    "# Use enenumerate instead of <range(len())>"
   ]
  },
  {
   "cell_type": "code",
   "execution_count": 2,
   "id": "78cd425b-c9ef-4b53-a8bd-36e839d2d6a0",
   "metadata": {},
   "outputs": [
    {
     "name": "stdout",
     "output_type": "stream",
     "text": [
      "0 a\n",
      "1 m\n",
      "2 i\n",
      "3 r\n"
     ]
    }
   ],
   "source": [
    "a = list(\"amir\")\n",
    "for i in range(len(a)):\n",
    "    print(i, a[i])"
   ]
  },
  {
   "cell_type": "code",
   "execution_count": 3,
   "id": "b6904eca-b08c-45f2-9685-b846838e192b",
   "metadata": {},
   "outputs": [
    {
     "name": "stdout",
     "output_type": "stream",
     "text": [
      "0 a\n",
      "1 m\n",
      "2 i\n",
      "3 r\n"
     ]
    }
   ],
   "source": [
    "for ind, item in enumerate(a):\n",
    "    print(ind, item)"
   ]
  },
  {
   "cell_type": "code",
   "execution_count": 6,
   "id": "83396caa-013b-41d7-8d1e-d37813548f67",
   "metadata": {},
   "outputs": [
    {
     "data": {
      "text/plain": [
       "[{'name': 'hamza', 'age': 7},\n",
       " {'name': 'amir', 'age': 31},\n",
       " {'name': 'oqba', 'age': 3},\n",
       " {'name': 'orwa', 'age': 1}]"
      ]
     },
     "execution_count": 6,
     "metadata": {},
     "output_type": "execute_result"
    }
   ],
   "source": [
    "# sort dictionay by some key\n",
    "d = [\n",
    "    {'name' : 'hamza', 'age' : 7},\n",
    "    {'name' :'amir', 'age':31},\n",
    "    {'name' : 'oqba', 'age' : 3},\n",
    "    {'name' : 'orwa', 'age' : 1}\n",
    "]\n",
    "d"
   ]
  },
  {
   "cell_type": "code",
   "execution_count": 7,
   "id": "594b88b1-999a-433e-bbca-51aab17392c3",
   "metadata": {},
   "outputs": [
    {
     "data": {
      "text/plain": [
       "[{'name': 'orwa', 'age': 1},\n",
       " {'name': 'oqba', 'age': 3},\n",
       " {'name': 'hamza', 'age': 7},\n",
       " {'name': 'amir', 'age': 31}]"
      ]
     },
     "execution_count": 7,
     "metadata": {},
     "output_type": "execute_result"
    }
   ],
   "source": [
    "sorted(d, key=lambda x:x['age'])"
   ]
  },
  {
   "cell_type": "code",
   "execution_count": 8,
   "id": "f4ac99ec-cdb3-4844-ac1e-b24f6be5648c",
   "metadata": {},
   "outputs": [
    {
     "data": {
      "text/plain": [
       "[{'name': 'amir', 'age': 31},\n",
       " {'name': 'hamza', 'age': 7},\n",
       " {'name': 'oqba', 'age': 3},\n",
       " {'name': 'orwa', 'age': 1}]"
      ]
     },
     "execution_count": 8,
     "metadata": {},
     "output_type": "execute_result"
    }
   ],
   "source": [
    "sorted(d, key=lambda x:x['age'], reverse=True)"
   ]
  },
  {
   "cell_type": "markdown",
   "id": "3924eaa3-d206-4ce4-a926-d20c4a3a3ed8",
   "metadata": {},
   "source": [
    "# Save memory with Ganerators"
   ]
  },
  {
   "cell_type": "code",
   "execution_count": 11,
   "id": "2c9b8d16-396e-4fc9-adfc-8005e46f820b",
   "metadata": {},
   "outputs": [
    {
     "name": "stdout",
     "output_type": "stream",
     "text": [
      "499999500000\n",
      "499999500000\n"
     ]
    }
   ],
   "source": [
    "my_list = [i for i in range(1000000)]\n",
    "my_gen  = (i for i in range(1000000))\n",
    "print(sum(my_list))\n",
    "print(sum(my_gen))"
   ]
  },
  {
   "cell_type": "code",
   "execution_count": 15,
   "id": "ef128470-3b50-4a83-b5d8-aa7221ccbc3a",
   "metadata": {},
   "outputs": [
    {
     "name": "stdout",
     "output_type": "stream",
     "text": [
      "8697456\n",
      "112\n"
     ]
    }
   ],
   "source": [
    "import sys\n",
    "# Size in bytes\n",
    "print(sys.getsizeof(my_list))\n",
    "print(sys.getsizeof(my_gen))"
   ]
  },
  {
   "cell_type": "code",
   "execution_count": 16,
   "id": "b5f17e77-2bc9-434c-a975-c2b7f18c61b8",
   "metadata": {},
   "outputs": [],
   "source": [
    "# So the output is the same, with huge diffrence in memory consumption"
   ]
  },
  {
   "cell_type": "code",
   "execution_count": null,
   "id": "6d959156-0733-4f23-820b-682266783cc0",
   "metadata": {},
   "outputs": [],
   "source": [
    "\n"
   ]
  },
  {
   "cell_type": "markdown",
   "id": "c6b53fc8-62ac-4bd5-9842-49aeede48e0c",
   "metadata": {},
   "source": [
    "# https://www.youtube.com/watch?v=WEP3DVTjKCc"
   ]
  },
  {
   "cell_type": "markdown",
   "id": "70bb201f-2acd-476b-a3b1-ed096b33f4e4",
   "metadata": {},
   "source": [
    "# avoid multiple AND "
   ]
  },
  {
   "cell_type": "code",
   "execution_count": 26,
   "id": "ef257b69-83a9-4a9f-8675-2a441f70cad8",
   "metadata": {},
   "outputs": [
    {
     "name": "stdout",
     "output_type": "stream",
     "text": [
      "Yes\n",
      "yes\n"
     ]
    }
   ],
   "source": [
    "a = 30\n",
    "b = 20\n",
    "c = 0\n",
    "if a > 22 and b < 30 and c == 0:\n",
    "    print(\"Yes\")\n",
    "    \n",
    "# instead, try this\n",
    "conditions = [a > 22, b < 30, c == 0]\n",
    "if all(conditions):\n",
    "    print(\"yes\")"
   ]
  },
  {
   "cell_type": "markdown",
   "id": "6f94c426-b665-4d3f-9e03-b3a86d7d989d",
   "metadata": {},
   "source": [
    "# get mode of the list"
   ]
  },
  {
   "cell_type": "code",
   "execution_count": 30,
   "id": "142b915b-8b3c-41f7-8f6e-33ae341beea3",
   "metadata": {},
   "outputs": [
    {
     "data": {
      "text/plain": [
       "[4, 4, 4, 4, 4, 3, 3, 3, 7, 7]"
      ]
     },
     "execution_count": 30,
     "metadata": {},
     "output_type": "execute_result"
    }
   ],
   "source": [
    "a = [4]*5 +  [3]*3 + [7]*2\n",
    "a"
   ]
  },
  {
   "cell_type": "code",
   "execution_count": 31,
   "id": "6e6b6808-a604-42f2-9038-e3f812ef527d",
   "metadata": {},
   "outputs": [
    {
     "data": {
      "text/plain": [
       "4"
      ]
     },
     "execution_count": 31,
     "metadata": {},
     "output_type": "execute_result"
    }
   ],
   "source": [
    "max(set(a), key=a.count)"
   ]
  },
  {
   "cell_type": "code",
   "execution_count": null,
   "id": "8dccc276-18ac-4b81-a575-a83438dd7082",
   "metadata": {},
   "outputs": [],
   "source": []
  },
  {
   "cell_type": "markdown",
   "id": "fbdfa089-a475-4117-9c81-2f93c916622b",
   "metadata": {},
   "source": [
    "# https://www.youtube.com/watch?v=PNXnMA5jV5Y"
   ]
  },
  {
   "cell_type": "markdown",
   "id": "a3d31114-d17d-45b3-8a66-48fcfa238c29",
   "metadata": {},
   "source": [
    "# Get senstive information from use using \"getpass\""
   ]
  },
  {
   "cell_type": "code",
   "execution_count": 37,
   "id": "35c08e14-e0b5-4115-8363-43f27989060e",
   "metadata": {},
   "outputs": [
    {
     "name": "stdin",
     "output_type": "stream",
     "text": [
      "Enter your password:  my_password\n"
     ]
    },
    {
     "name": "stdout",
     "output_type": "stream",
     "text": [
      "OK password\n"
     ]
    }
   ],
   "source": [
    "orignal_pas = \"my_password\"\n",
    "pas = input(\"Enter your password: \")\n",
    "if pas.lower() == orignal_pas:\n",
    "    print(\"OK password\")"
   ]
  },
  {
   "cell_type": "code",
   "execution_count": 38,
   "id": "037a0d5f-293d-48e6-9038-a6cb03fffc2d",
   "metadata": {},
   "outputs": [
    {
     "name": "stdin",
     "output_type": "stream",
     "text": [
      "Enter your password ···········\n"
     ]
    },
    {
     "name": "stdout",
     "output_type": "stream",
     "text": [
      "OK password\n"
     ]
    }
   ],
   "source": [
    "from getpass import getpass\n",
    "pas = getpass(\"Enter your password\")\n",
    "if pas.lower() == orignal_pas:\n",
    "    print(\"OK password\")"
   ]
  },
  {
   "cell_type": "markdown",
   "id": "a163d7de-016f-4dc8-a0f9-d4f39396d848",
   "metadata": {},
   "source": [
    "# Debug python code !!!!!!!!!!!!!!!!!!!!!!!!!"
   ]
  },
  {
   "cell_type": "code",
   "execution_count": 1,
   "id": "ab420263-2f50-4077-bfa5-301619bd028a",
   "metadata": {},
   "outputs": [
    {
     "name": "stdout",
     "output_type": "stream",
     "text": [
      "> <ipython-input-1-f2a2b81e7864>(2)<module>()\n",
      "-> for i in range(5):\n"
     ]
    },
    {
     "name": "stdin",
     "output_type": "stream",
     "text": [
      "(Pdb)  i\n"
     ]
    },
    {
     "name": "stdout",
     "output_type": "stream",
     "text": [
      "3\n"
     ]
    },
    {
     "name": "stdin",
     "output_type": "stream",
     "text": [
      "(Pdb)  type(i)\n"
     ]
    },
    {
     "name": "stdout",
     "output_type": "stream",
     "text": [
      "<class 'int'>\n"
     ]
    },
    {
     "name": "stdin",
     "output_type": "stream",
     "text": [
      "(Pdb)  type(l_)\n"
     ]
    },
    {
     "name": "stdout",
     "output_type": "stream",
     "text": [
      "<class 'list'>\n"
     ]
    },
    {
     "name": "stdin",
     "output_type": "stream",
     "text": [
      "(Pdb)  len(l_)\n"
     ]
    },
    {
     "name": "stdout",
     "output_type": "stream",
     "text": [
      "4\n"
     ]
    },
    {
     "name": "stdin",
     "output_type": "stream",
     "text": [
      "(Pdb)  l_\n"
     ]
    },
    {
     "name": "stdout",
     "output_type": "stream",
     "text": [
      "[0, 1, 2, 3]\n"
     ]
    },
    {
     "name": "stdin",
     "output_type": "stream",
     "text": [
      "(Pdb)  import pickle ; pickle.dump(l_, open('l_.pkl', 'wb'))\n",
      "(Pdb)  q\n"
     ]
    },
    {
     "ename": "BdbQuit",
     "evalue": "",
     "output_type": "error",
     "traceback": [
      "\u001b[0;31m---------------------------------------------------------------------------\u001b[0m",
      "\u001b[0;31mBdbQuit\u001b[0m                                   Traceback (most recent call last)",
      "\u001b[0;32m<ipython-input-1-f2a2b81e7864>\u001b[0m in \u001b[0;36m<module>\u001b[0;34m\u001b[0m\n\u001b[1;32m      1\u001b[0m \u001b[0ml_\u001b[0m \u001b[0;34m=\u001b[0m \u001b[0;34m[\u001b[0m\u001b[0;34m]\u001b[0m\u001b[0;34m\u001b[0m\u001b[0;34m\u001b[0m\u001b[0m\n\u001b[0;32m----> 2\u001b[0;31m \u001b[0;32mfor\u001b[0m \u001b[0mi\u001b[0m \u001b[0;32min\u001b[0m \u001b[0mrange\u001b[0m\u001b[0;34m(\u001b[0m\u001b[0;36m5\u001b[0m\u001b[0;34m)\u001b[0m\u001b[0;34m:\u001b[0m\u001b[0;34m\u001b[0m\u001b[0;34m\u001b[0m\u001b[0m\n\u001b[0m\u001b[1;32m      3\u001b[0m     \u001b[0ml_\u001b[0m\u001b[0;34m.\u001b[0m\u001b[0mappend\u001b[0m\u001b[0;34m(\u001b[0m\u001b[0mi\u001b[0m\u001b[0;34m)\u001b[0m\u001b[0;34m\u001b[0m\u001b[0;34m\u001b[0m\u001b[0m\n\u001b[1;32m      4\u001b[0m     \u001b[0;32mif\u001b[0m \u001b[0mi\u001b[0m \u001b[0;34m==\u001b[0m \u001b[0;36m3\u001b[0m\u001b[0;34m:\u001b[0m\u001b[0;34m\u001b[0m\u001b[0;34m\u001b[0m\u001b[0m\n\u001b[1;32m      5\u001b[0m         \u001b[0mbreakpoint\u001b[0m\u001b[0;34m(\u001b[0m\u001b[0;34m)\u001b[0m\u001b[0;34m\u001b[0m\u001b[0;34m\u001b[0m\u001b[0m\n",
      "\u001b[0;32m<ipython-input-1-f2a2b81e7864>\u001b[0m in \u001b[0;36m<module>\u001b[0;34m\u001b[0m\n\u001b[1;32m      1\u001b[0m \u001b[0ml_\u001b[0m \u001b[0;34m=\u001b[0m \u001b[0;34m[\u001b[0m\u001b[0;34m]\u001b[0m\u001b[0;34m\u001b[0m\u001b[0;34m\u001b[0m\u001b[0m\n\u001b[0;32m----> 2\u001b[0;31m \u001b[0;32mfor\u001b[0m \u001b[0mi\u001b[0m \u001b[0;32min\u001b[0m \u001b[0mrange\u001b[0m\u001b[0;34m(\u001b[0m\u001b[0;36m5\u001b[0m\u001b[0;34m)\u001b[0m\u001b[0;34m:\u001b[0m\u001b[0;34m\u001b[0m\u001b[0;34m\u001b[0m\u001b[0m\n\u001b[0m\u001b[1;32m      3\u001b[0m     \u001b[0ml_\u001b[0m\u001b[0;34m.\u001b[0m\u001b[0mappend\u001b[0m\u001b[0;34m(\u001b[0m\u001b[0mi\u001b[0m\u001b[0;34m)\u001b[0m\u001b[0;34m\u001b[0m\u001b[0;34m\u001b[0m\u001b[0m\n\u001b[1;32m      4\u001b[0m     \u001b[0;32mif\u001b[0m \u001b[0mi\u001b[0m \u001b[0;34m==\u001b[0m \u001b[0;36m3\u001b[0m\u001b[0;34m:\u001b[0m\u001b[0;34m\u001b[0m\u001b[0;34m\u001b[0m\u001b[0m\n\u001b[1;32m      5\u001b[0m         \u001b[0mbreakpoint\u001b[0m\u001b[0;34m(\u001b[0m\u001b[0;34m)\u001b[0m\u001b[0;34m\u001b[0m\u001b[0;34m\u001b[0m\u001b[0m\n",
      "\u001b[0;32m/usr/lib/python3.8/bdb.py\u001b[0m in \u001b[0;36mtrace_dispatch\u001b[0;34m(self, frame, event, arg)\u001b[0m\n\u001b[1;32m     86\u001b[0m             \u001b[0;32mreturn\u001b[0m \u001b[0;31m# None\u001b[0m\u001b[0;34m\u001b[0m\u001b[0;34m\u001b[0m\u001b[0m\n\u001b[1;32m     87\u001b[0m         \u001b[0;32mif\u001b[0m \u001b[0mevent\u001b[0m \u001b[0;34m==\u001b[0m \u001b[0;34m'line'\u001b[0m\u001b[0;34m:\u001b[0m\u001b[0;34m\u001b[0m\u001b[0;34m\u001b[0m\u001b[0m\n\u001b[0;32m---> 88\u001b[0;31m             \u001b[0;32mreturn\u001b[0m \u001b[0mself\u001b[0m\u001b[0;34m.\u001b[0m\u001b[0mdispatch_line\u001b[0m\u001b[0;34m(\u001b[0m\u001b[0mframe\u001b[0m\u001b[0;34m)\u001b[0m\u001b[0;34m\u001b[0m\u001b[0;34m\u001b[0m\u001b[0m\n\u001b[0m\u001b[1;32m     89\u001b[0m         \u001b[0;32mif\u001b[0m \u001b[0mevent\u001b[0m \u001b[0;34m==\u001b[0m \u001b[0;34m'call'\u001b[0m\u001b[0;34m:\u001b[0m\u001b[0;34m\u001b[0m\u001b[0;34m\u001b[0m\u001b[0m\n\u001b[1;32m     90\u001b[0m             \u001b[0;32mreturn\u001b[0m \u001b[0mself\u001b[0m\u001b[0;34m.\u001b[0m\u001b[0mdispatch_call\u001b[0m\u001b[0;34m(\u001b[0m\u001b[0mframe\u001b[0m\u001b[0;34m,\u001b[0m \u001b[0marg\u001b[0m\u001b[0;34m)\u001b[0m\u001b[0;34m\u001b[0m\u001b[0;34m\u001b[0m\u001b[0m\n",
      "\u001b[0;32m/usr/lib/python3.8/bdb.py\u001b[0m in \u001b[0;36mdispatch_line\u001b[0;34m(self, frame)\u001b[0m\n\u001b[1;32m    111\u001b[0m         \u001b[0;32mif\u001b[0m \u001b[0mself\u001b[0m\u001b[0;34m.\u001b[0m\u001b[0mstop_here\u001b[0m\u001b[0;34m(\u001b[0m\u001b[0mframe\u001b[0m\u001b[0;34m)\u001b[0m \u001b[0;32mor\u001b[0m \u001b[0mself\u001b[0m\u001b[0;34m.\u001b[0m\u001b[0mbreak_here\u001b[0m\u001b[0;34m(\u001b[0m\u001b[0mframe\u001b[0m\u001b[0;34m)\u001b[0m\u001b[0;34m:\u001b[0m\u001b[0;34m\u001b[0m\u001b[0;34m\u001b[0m\u001b[0m\n\u001b[1;32m    112\u001b[0m             \u001b[0mself\u001b[0m\u001b[0;34m.\u001b[0m\u001b[0muser_line\u001b[0m\u001b[0;34m(\u001b[0m\u001b[0mframe\u001b[0m\u001b[0;34m)\u001b[0m\u001b[0;34m\u001b[0m\u001b[0;34m\u001b[0m\u001b[0m\n\u001b[0;32m--> 113\u001b[0;31m             \u001b[0;32mif\u001b[0m \u001b[0mself\u001b[0m\u001b[0;34m.\u001b[0m\u001b[0mquitting\u001b[0m\u001b[0;34m:\u001b[0m \u001b[0;32mraise\u001b[0m \u001b[0mBdbQuit\u001b[0m\u001b[0;34m\u001b[0m\u001b[0;34m\u001b[0m\u001b[0m\n\u001b[0m\u001b[1;32m    114\u001b[0m         \u001b[0;32mreturn\u001b[0m \u001b[0mself\u001b[0m\u001b[0;34m.\u001b[0m\u001b[0mtrace_dispatch\u001b[0m\u001b[0;34m\u001b[0m\u001b[0;34m\u001b[0m\u001b[0m\n\u001b[1;32m    115\u001b[0m \u001b[0;34m\u001b[0m\u001b[0m\n",
      "\u001b[0;31mBdbQuit\u001b[0m: "
     ]
    }
   ],
   "source": [
    "l_ = []\n",
    "for i in range(5):\n",
    "    l_.append(i)\n",
    "    if i == 3:\n",
    "        breakpoint()\n",
    "        \n",
    "# type <n> for executing next line # to ham 1 dafa n dabaen gy to <breakpoint()> sy next line execute ho jay gi, phir \n",
    "# ham kuch values ko check kar sakty hen, (jesa k python.tutor visulize wali web site par hota h), phir 1 or dafa <n> \n",
    "# dabaen gy to us sy agli line execute ho gi."
   ]
  },
  {
   "cell_type": "code",
   "execution_count": 3,
   "id": "48893342-89ce-427b-92aa-58e01caf9b63",
   "metadata": {},
   "outputs": [
    {
     "data": {
      "text/plain": [
       "[0, 1, 2, 3]"
      ]
     },
     "execution_count": 3,
     "metadata": {},
     "output_type": "execute_result"
    }
   ],
   "source": [
    "pickle.load(open(\"l_.pkl\", \"rb\"))"
   ]
  },
  {
   "cell_type": "markdown",
   "id": "c66948ee-014b-4249-a634-d5ec24cc2cfb",
   "metadata": {},
   "source": [
    "# Lambda function"
   ]
  },
  {
   "cell_type": "code",
   "execution_count": null,
   "id": "15de34d4-c79c-45cf-9535-b4774fb77c4d",
   "metadata": {},
   "outputs": [],
   "source": [
    "# lambda constaints:\n",
    "#     1- take any number of arguments but can have only one expression."
   ]
  },
  {
   "cell_type": "markdown",
   "id": "d9898265-9c06-49cb-afde-bf38de1f3b7a",
   "metadata": {},
   "source": [
    "# Interective invoirment"
   ]
  },
  {
   "cell_type": "markdown",
   "id": "a3e3616b-54be-4ade-9221-8ace88473bf6",
   "metadata": {},
   "source": [
    "jab ham koi script terminal sy run karty hen to us me agar error aa jay to jahan tak kaam hwa tha us ko ham nahi dekh sakty, is problem ko solve karny k lye <ipython3 script.py> k bajay <ipython3 -i script.py> run karen, agar koi error aay ga to wo error show ho ga or python terminal par hi khul jay gi, or error line sy pehly ka sara data us me save ho ga, or agar error na aaya to file execution k khatam hony k bad python terminal khul jay ga, jis me ham sab kuch dekh saken gy k (last me \"x\" ki value kya thi?  <lst> ki length kya thi? or sab kuch)"
   ]
  },
  {
   "cell_type": "markdown",
   "id": "14336336-89a0-4f2c-a8b3-e862204f1002",
   "metadata": {},
   "source": [
    "# get max of tuple/list by some index"
   ]
  },
  {
   "cell_type": "code",
   "execution_count": 7,
   "id": "75b39ed5-7fac-424a-9dfb-209ef81ec454",
   "metadata": {},
   "outputs": [
    {
     "data": {
      "text/plain": [
       "((1, 7), (4, 3), (7, 0))"
      ]
     },
     "execution_count": 7,
     "metadata": {},
     "output_type": "execute_result"
    }
   ],
   "source": [
    "t = tuple(zip([1,4,7],[7,3,0]))\n",
    "t"
   ]
  },
  {
   "cell_type": "code",
   "execution_count": 9,
   "id": "edb8ef5b-0bd7-4dc2-8747-94fdddfc29ce",
   "metadata": {},
   "outputs": [
    {
     "data": {
      "text/plain": [
       "(7, 0)"
      ]
     },
     "execution_count": 9,
     "metadata": {},
     "output_type": "execute_result"
    }
   ],
   "source": [
    "# max element based on <0> index in each nested tuple\n",
    "max(t, key=lambda x:x[0])"
   ]
  },
  {
   "cell_type": "code",
   "execution_count": 12,
   "id": "4a822a2e-58a2-4ecc-ade3-611eb1522647",
   "metadata": {},
   "outputs": [
    {
     "data": {
      "text/plain": [
       "(1, 7)"
      ]
     },
     "execution_count": 12,
     "metadata": {},
     "output_type": "execute_result"
    }
   ],
   "source": [
    "## max element based on <1> index in each nested tuple\n",
    "max(t, key=lambda x:x[1])"
   ]
  },
  {
   "cell_type": "code",
   "execution_count": null,
   "id": "b88fac99-3e8d-4fcc-ba51-d206fd21d43e",
   "metadata": {},
   "outputs": [],
   "source": []
  },
  {
   "cell_type": "markdown",
   "id": "0c8fc85c-8250-4b0d-8d56-8947416b1817",
   "metadata": {},
   "source": [
    "# https://www.youtube.com/watch?v=MHlwl6GsT8s"
   ]
  },
  {
   "cell_type": "markdown",
   "id": "2e85f233-a7e5-43ac-874a-ebee52872886",
   "metadata": {},
   "source": [
    "# download youtube videos from python"
   ]
  },
  {
   "cell_type": "code",
   "execution_count": null,
   "id": "a8c5763b-a0ec-423e-befb-bdbb4d2a41fa",
   "metadata": {},
   "outputs": [],
   "source": [
    "import youtube_dl\n",
    "links = ['link1', 'link_']\n",
    "ydl = youtube_dl.YoutubeDL()\n",
    "ydl.download(links)"
   ]
  },
  {
   "cell_type": "markdown",
   "id": "8aee941f-c178-40f0-8a37-da1259340b69",
   "metadata": {},
   "source": [
    "# open url in web browser"
   ]
  },
  {
   "cell_type": "code",
   "execution_count": 13,
   "id": "e2bc0a7e-70f4-451b-8ffb-3a0bee51408a",
   "metadata": {},
   "outputs": [
    {
     "data": {
      "text/plain": [
       "True"
      ]
     },
     "execution_count": 13,
     "metadata": {},
     "output_type": "execute_result"
    }
   ],
   "source": [
    "import webbrowser\n",
    "url = \"https://www.gmail.com\"\n",
    "webbrowser.open_new(url)\n",
    "webbrowser.open_new_tab(url)"
   ]
  },
  {
   "cell_type": "markdown",
   "id": "61127e13-7edf-4975-a9a7-9de492968ddb",
   "metadata": {},
   "source": [
    "# Color prints"
   ]
  },
  {
   "cell_type": "code",
   "execution_count": 20,
   "id": "e48fb0bf-d80c-45bd-a46f-773a1eb9ed5c",
   "metadata": {},
   "outputs": [
    {
     "name": "stdout",
     "output_type": "stream",
     "text": [
      "GREEN color\n",
      "YELLOW color\n",
      "RED color\n",
      "BLUE color\n"
     ]
    }
   ],
   "source": [
    "# This is not working in jupyter, write these lines in script and excete it from terminal (tested)\n",
    "from colorama import Fore, init\n",
    "\n",
    "init()\n",
    "\n",
    "print(Fore.GREEN + 'GREEN color')\n",
    "print(Fore.YELLOW + 'YELLOW color')\n",
    "print(Fore.RED + 'RED color')\n",
    "print(Fore.BLUE + 'BLUE color')"
   ]
  },
  {
   "cell_type": "markdown",
   "id": "aaf92b6c-bb22-4b03-8b7f-64748ad2232b",
   "metadata": {},
   "source": [
    "# if else in one line"
   ]
  },
  {
   "cell_type": "code",
   "execution_count": 36,
   "id": "c4586d9a-855c-451b-89df-cfc7df1e7a8a",
   "metadata": {},
   "outputs": [
    {
     "name": "stdout",
     "output_type": "stream",
     "text": [
      "allowed\n",
      "not allowed\n"
     ]
    }
   ],
   "source": [
    "age = 20\n",
    "print(['not allowed', 'allowed'][age>18])\n",
    "\n",
    "age = 16\n",
    "print(['not allowed', 'allowed'][age>18])\n",
    "\n",
    "\n",
    "# explaination\n",
    "# ['not allowed', 'allowed'][age>18]\n",
    "# after executing <[age>18]> the result either <[True]> or <[False]>, and then convert into int, \n",
    "# so <[True]> --> [1], and <[False]> --> [0]"
   ]
  },
  {
   "cell_type": "code",
   "execution_count": null,
   "id": "c01975c1-206a-4fde-93f2-a8984d43faff",
   "metadata": {},
   "outputs": [],
   "source": []
  },
  {
   "cell_type": "code",
   "execution_count": null,
   "id": "c2acae8b-8dee-4fe6-aec2-4d400d04b1c7",
   "metadata": {},
   "outputs": [],
   "source": []
  }
 ],
 "metadata": {
  "kernelspec": {
   "display_name": "Python 3",
   "language": "python",
   "name": "python3"
  },
  "language_info": {
   "codemirror_mode": {
    "name": "ipython",
    "version": 3
   },
   "file_extension": ".py",
   "mimetype": "text/x-python",
   "name": "python",
   "nbconvert_exporter": "python",
   "pygments_lexer": "ipython3",
   "version": "3.8.10"
  }
 },
 "nbformat": 4,
 "nbformat_minor": 5
}
