{
 "cells": [
  {
   "cell_type": "code",
   "execution_count": 1,
   "metadata": {},
   "outputs": [],
   "source": [
    "import numpy as np\n",
    "import matplotlib.pyplot as plt\n",
    "\n",
    "\n",
    "\n",
    "def draw(Cloth_H, Cloth_W, Bag_H, Bag_W, p):\n",
    "        a,b,c,d = Cloth_H, Cloth_W, Bag_H, Bag_W\n",
    "        factor = Cloth_H/Cloth_W\n",
    "        if factor>1:\n",
    "            fig, ax = plt.subplots(1,1,figsize=(10*1/factor,10))\n",
    "        else:\n",
    "            fig, ax = plt.subplots(1,1,figsize=(10,10*factor))\n",
    "\n",
    "\n",
    "        x_zero = 0\n",
    "        for orientation in p:\n",
    "            if orientation == 'A':\n",
    "                ax.hlines(y = Cloth_H   ,xmin = x_zero   , xmax = Cloth_W  , lw = 2, color = 'g')\n",
    "                ax.hlines(y = Cloth_H-Bag_H   ,xmin = x_zero   , xmax = Cloth_W  , lw = 2, color = 'g')\n",
    "                for ii in range(int((Cloth_W-x_zero)//Bag_W+1)):\n",
    "                    ax.vlines(x = x_zero+ii*Bag_W   ,ymin = Cloth_H-Bag_H   , ymax = Cloth_H  , lw = 2, color = 'orange')\n",
    "                x_range = np.arange(x_zero+ii*Bag_W,Cloth_W+1)\n",
    "                ax.fill_between(x_range,y1=[Cloth_H]*len(x_range),y2=[Cloth_H-Bag_H]*len(x_range),color='grey',alpha=0.7)\n",
    "                Cloth_H-=Bag_H\n",
    "\n",
    "            if orientation == 'C':\n",
    "                ax.hlines(y = Cloth_H   ,xmin = x_zero   , xmax = Cloth_W  , lw = 2, color = 'g')\n",
    "                ax.hlines(y = Cloth_H-Bag_W   ,xmin = x_zero   , xmax = Cloth_W  , lw = 2, color = 'g')\n",
    "                for ii in range(int((Cloth_W-x_zero)//Bag_H+1)):\n",
    "                    ax.vlines(x = x_zero+ii*Bag_H   ,ymin = Cloth_H-Bag_W   , ymax = Cloth_H  , lw = 2, color = 'orange')\n",
    "                x_range = np.arange(x_zero+ii*Bag_H,Cloth_W+1)\n",
    "                ax.fill_between(x_range,y1=[Cloth_H]*len(x_range),y2=[Cloth_H-Bag_W]*len(x_range),color='grey',alpha=0.7)\n",
    "                Cloth_H-=Bag_W\n",
    "\n",
    "            if orientation == 'B':\n",
    "                ax.vlines(x = x_zero         ,ymin = 0   , ymax = Cloth_H  , lw = 2, color = 'g')\n",
    "                ax.vlines(x = x_zero+Bag_W   ,ymin = 0   , ymax = Cloth_H  , lw = 2, color = 'g')\n",
    "                for ii in range(int(Cloth_H//Bag_H+1)):\n",
    "                    ax.hlines(y = Cloth_H-ii*Bag_H   ,xmin = x_zero   , xmax = x_zero+Bag_W  , lw = 2, color = 'orange')\n",
    "                \n",
    "                y_range = np.arange(0,Cloth_H-ii*Bag_H+1)\n",
    "                ax.fill_betweenx(y_range,x1=[x_zero]*len(y_range),x2=[x_zero+Bag_W]*len(y_range),color='grey',alpha=0.7)                \n",
    "                x_zero+=Bag_W\n",
    "\n",
    "            if orientation == 'D':\n",
    "                ax.vlines(x = x_zero         ,ymin = 0   , ymax = Cloth_H  , lw = 2, color = 'g')\n",
    "                ax.vlines(x = x_zero+Bag_H   ,ymin = 0   , ymax = Cloth_H  , lw = 2, color = 'g')\n",
    "                for ii in range(int(Cloth_W//Bag_W+1)):\n",
    "                    ax.hlines(y = Cloth_H-ii*Bag_W   ,xmin = x_zero   , xmax = x_zero+Bag_H  , lw = 2, color = 'orange')\n",
    "                y_range = np.arange(0,Cloth_H-ii*Bag_W+1)\n",
    "                ax.fill_betweenx(y_range,x1=[x_zero]*len(y_range),x2=[x_zero+Bag_H]*len(y_range),color='grey',alpha=0.7)                \n",
    "                \n",
    "                x_zero+=Bag_H\n",
    "\n",
    "    # make boundries of graph\n",
    "        Cloth_H, Cloth_W, Bag_H, Bag_W = a,b,c,d\n",
    "        ax.hlines(y = 0         ,xmin = 0   , xmax = Cloth_W  , lw = 2, color = 'b')\n",
    "        ax.hlines(y = Cloth_H   ,xmin = 0   , xmax = Cloth_W  , lw = 2, color = 'b')\n",
    "        ax.vlines(x = 0         ,ymin = 0   , ymax = Cloth_H  , lw = 2, color = 'b')\n",
    "        ax.vlines(x = Cloth_W   ,ymin = 0   , ymax = Cloth_H  , lw = 2, color = 'b')\n",
    "\n",
    "\n",
    "\n",
    "def optimization_wrapper(Cloth_H, Cloth_W ,Bag_H, Bag_W):\n",
    "    L = Cloth_H\n",
    "    W = Cloth_W\n",
    "    l = Bag_H\n",
    "    w = Bag_W\n",
    "    \n",
    "    dp = dict()\n",
    "    area_avail = L*W\n",
    "    import matplotlib.pyplot as plt\n",
    "    def optimization(L , W):\n",
    "        temp = dp.get((L,W),None)\n",
    "        if temp is not None:\n",
    "            return temp\n",
    "        if (L<=0) or (W<=0):\n",
    "            return 0,'-'\n",
    "        if (L < w) or (W < w):\n",
    "            return 0,'-'    \n",
    "\n",
    "        options =[]\n",
    "        if L-l >= 0:\n",
    "            value = (W // w) + optimization(L-l , W)[0]\n",
    "            options.append((value,'A'))\n",
    "        if W-w >= 0:\n",
    "            value = (L // l) + optimization(L   , W-w)[0]\n",
    "            options.append((value,'B'))\n",
    "        if L-w >= 0:\n",
    "            value = (W // l) + optimization(L-w , W)[0]\n",
    "            options.append((value,'C'))\n",
    "        if W-l >= 0:\n",
    "            value = (L // w) + optimization(L   , W-l)[0]\n",
    "            options.append((value,'D'))\n",
    "        dp[(L,W)]=max(options,key=lambda x:x[0])\n",
    "        return dp[(L,W)] \n",
    "\n",
    "    optimization(L,W)\n",
    "    area_used = w*l*int(dp[(L,W)][0])\n",
    "    #print(dp)\n",
    "    print(\"Available area:         \",area_avail)\n",
    "    print('Total number of pieces: ', dp[(L,W)]) \n",
    "    print('Area used:              ', area_used)\n",
    "    print('Area un-used:           ', area_avail-area_used)\n",
    "    print('Wastage:                ', (area_avail-area_used)/area_avail*100, '%' )\n",
    "    \n",
    "    p = []\n",
    "    while (L >= w and W >= w):\n",
    "        cut = dp[(L,W)]\n",
    "        orientation = cut[1]\n",
    "        p.append(orientation)\n",
    "        if orientation == 'A':\n",
    "            L = L-l\n",
    "        elif orientation == 'B':\n",
    "            W = W-w\n",
    "        elif orientation == 'C':\n",
    "            L = L-w\n",
    "        elif orientation == 'D':\n",
    "            W = W-l\n",
    "            \n",
    "     # Drawing graphs\n",
    "    \n",
    "    draw(Cloth_H, Cloth_W, Bag_H, Bag_W, p)\n",
    "    return p"
   ]
  },
  {
   "cell_type": "code",
   "execution_count": null,
   "metadata": {},
   "outputs": [],
   "source": []
  },
  {
   "cell_type": "code",
   "execution_count": 3,
   "metadata": {
    "scrolled": false
   },
   "outputs": [
    {
     "name": "stdout",
     "output_type": "stream",
     "text": [
      "Available area:          6930\n",
      "Total number of pieces:  (12, 'C')\n",
      "Area used:               6720\n",
      "Area un-used:            210\n",
      "Wastage:                 3.0303030303030303 %\n"
     ]
    },
    {
     "data": {
      "text/plain": [
       "['C', 'C', 'C']"
      ]
     },
     "execution_count": 3,
     "metadata": {},
     "output_type": "execute_result"
    },
    {
     "data": {
      "image/png": "[encoded data removed]",
      "text/plain": [
       "<Figure size 452.571x720 with 1 Axes>"
      ]
     },
     "metadata": {
      "needs_background": "light"
     },
     "output_type": "display_data"
    }
   ],
   "source": [
    "optimization_wrapper(105,66,16,35)"
   ]
  },
  {
   "cell_type": "code",
   "execution_count": 5,
   "metadata": {
    "scrolled": true
   },
   "outputs": [
    {
     "name": "stdout",
     "output_type": "stream",
     "text": [
      "Available area:          15104\n",
      "Total number of pieces:  (25.0, 'C')\n",
      "Area used:               14600.0\n",
      "Area un-used:            504.0\n",
      "Wastage:                 3.3368644067796613 %\n"
     ]
    },
    {
     "data": {
      "text/plain": [
       "['C', 'B', 'B', 'B', 'B', 'B', 'C', 'C', 'C', 'C', 'C', 'C', 'C']"
      ]
     },
     "execution_count": 5,
     "metadata": {},
     "output_type": "execute_result"
    },
    {
     "data": {
      "image/png": "[encoded data removed]",
      "text/plain": [
       "<Figure size 663.75x720 with 1 Axes>"
      ]
     },
     "metadata": {
      "needs_background": "light"
     },
     "output_type": "display_data"
    }
   ],
   "source": [
    "optimization_wrapper(128, 118, 36.5, 16)"
   ]
  },
  {
   "cell_type": "code",
   "execution_count": 6,
   "metadata": {},
   "outputs": [
    {
     "name": "stdout",
     "output_type": "stream",
     "text": [
      "Available area:          40602\n",
      "Total number of pieces:  (60, 'A')\n",
      "Area used:               37740\n",
      "Area un-used:            2862\n",
      "Wastage:                 7.048913846608541 %\n"
     ]
    },
    {
     "data": {
      "text/plain": [
       "['A', 'A', 'A', 'A', 'A', 'C']"
      ]
     },
     "execution_count": 6,
     "metadata": {},
     "output_type": "execute_result"
    },
    {
     "data": {
      "image/png": "[encoded data removed]",
      "text/plain": [
       "<Figure size 716.436x720 with 1 Axes>"
      ]
     },
     "metadata": {
      "needs_background": "light"
     },
     "output_type": "display_data"
    }
   ],
   "source": [
    "optimization_wrapper(202, 201, 37, 17)"
   ]
  },
  {
   "cell_type": "code",
   "execution_count": 8,
   "metadata": {},
   "outputs": [
    {
     "name": "stdout",
     "output_type": "stream",
     "text": [
      "Available area:          14278\n",
      "Total number of pieces:  (132, 'A')\n",
      "Area used:               13200\n",
      "Area un-used:            1078\n",
      "Wastage:                 7.550077041602465 %\n"
     ]
    },
    {
     "data": {
      "text/plain": [
       "['A', 'A', 'A', 'A', 'A', 'A', 'A', 'A', 'A', 'A', 'A', 'A']"
      ]
     },
     "execution_count": 8,
     "metadata": {},
     "output_type": "execute_result"
    },
    {
     "data": {
      "image/png": "[encoded data removed]",
      "text/plain": [
       "<Figure size 702.149x720 with 1 Axes>"
      ]
     },
     "metadata": {
      "needs_background": "light"
     },
     "output_type": "display_data"
    }
   ],
   "source": [
    "optimization_wrapper(121, 118, 10, 10)"
   ]
  },
  {
   "cell_type": "code",
   "execution_count": null,
   "metadata": {},
   "outputs": [],
   "source": []
  },
  {
   "cell_type": "code",
   "execution_count": null,
   "metadata": {},
   "outputs": [],
   "source": []
  },
  {
   "cell_type": "code",
   "execution_count": null,
   "metadata": {},
   "outputs": [],
   "source": []
  },
  {
   "cell_type": "code",
   "execution_count": null,
   "metadata": {},
   "outputs": [],
   "source": []
  },
  {
   "cell_type": "code",
   "execution_count": null,
   "metadata": {},
   "outputs": [],
   "source": [
    "def draw(M_L, M_W, M_l, M_w, p):\n",
    "    import matplotlib.pyplot as plt\n",
    "    factor = M_L/M_W\n",
    "    if factor>1:\n",
    "        fig, ax = plt.subplots(1,1,figsize=(10*1/factor,10))\n",
    "    else:\n",
    "        fig, ax = plt.subplots(1,1,figsize=(10,10*factor))\n",
    "    \n",
    "    # make boundries of graph\n",
    "    ax.hlines(y = 0     ,xmin = 0   , xmax = M_W  , lw = 2, color = 'b')\n",
    "    ax.hlines(y = M_L   ,xmin = 0   , xmax = M_W  , lw = 2, color = 'b')\n",
    "    ax.vlines(x = 0     ,ymin = 0   , ymax = M_L  , lw = 2, color = 'b')\n",
    "    ax.vlines(x = M_W   ,ymin = 0   , ymax = M_L  , lw = 2, color = 'b')\n",
    "    \n",
    "    #if p =='A':\n",
    "    # copying M_W and M_w to new variables so they can be uesd in loops\n",
    "    M_W_a = M_W\n",
    "    M_w_a = M_w\n",
    "    M_L_a = M_L\n",
    "    M_l_a = M_l\n",
    "    for i in range(len(p)):\n",
    "    #    print(i)\n",
    "        if p[i] == 'A':\n",
    "            for j in range(1,int(M_W_a // M_w_a)+1):\n",
    "                ax.vlines(x = 0,         ymin = M_L,       ymax = M_L-M_l,   lw = 2, color = 'orange')\n",
    "                ax.hlines(y = M_L-M_l,   xmin = 0,         xmax = j*M_w,     lw = 2, color = 'orange')\n",
    "                ax.vlines(x = j*M_w,     ymin = M_L,       ymax = M_L-M_l,   lw = 2, color = 'orange')\n",
    "                ax.hlines(y = M_L,       xmin = j*M_w,     xmax = 0,         lw = 2, color = 'orange')\n",
    "            M_L = M_L-M_l\n",
    "        if p[i] == 'B':\n",
    "            #for j in range(1, int(M_L_a // M_l_a)+1):\n",
    "            ax.vlines(x = 0 ,        ymin = M_L,       ymax = M_L-M_l,   lw = 2, color = 'orange')\n",
    "            ax.hlines(y = M_L-M_l,   xmin = 0,         xmax = M_w,       lw = 2, color = 'orange')\n",
    "            ax.vlines(x = M_w,       ymin = M_L,       ymax = M_L-M_l,   lw = 2, color = 'orange')\n",
    "            ax.hlines(y = M_L,       xmin = M_w,       xmax = 0,         lw = 2, color = 'orange')\n",
    "            M_L = M_L-M_l\n",
    "            for j in range( int(M_L_a // M_l_a)):\n",
    "                ax.vlines(x = 0,         ymin = M_L-j*M_l,      ymax = M_l,       lw = 2, color = 'orange')\n",
    "                ax.hlines(y = M_L-j*M_l, xmin = 0,              xmax = M_w,       lw = 2, color = 'orange')\n",
    "                ax.vlines(x = M_w,       ymin = M_L-j*M_l,      ymax = M_l,       lw = 2, color = 'orange')\n",
    "            M_W = M_W-M_w\n",
    "        \n",
    "        if p[i] == 'C':\n",
    "            for j in range(1, int(M_W_a // M_w_a)+1):\n",
    "                ax.vlines(x = 0,         ymin = M_L,       ymax = M_L-M_w,   lw = 2, color = 'orange')\n",
    "                ax.hlines(y = M_L-M_w,   xmin = 0,         xmax = M_l,       lw = 2, color = 'orange')\n",
    "                ax.vlines(x = M_l,       ymin = M_W-M_w,    ymax = M_w,   lw = 2, color = 'orange')\n",
    "                #ax.hlines(y = M_L,       xmin = j*M_w,     xmax = 0,         lw = 2, color = 'orange')\n",
    "\n",
    "                \n",
    "\n",
    "                "
   ]
  },
  {
   "cell_type": "code",
   "execution_count": null,
   "metadata": {},
   "outputs": [],
   "source": [
    "import matplotlib.pyplot as plt"
   ]
  },
  {
   "cell_type": "code",
   "execution_count": null,
   "metadata": {},
   "outputs": [],
   "source": [
    "def draw(Cloth_H, Cloth_W, Bag_H, Bag_W, p):\n",
    "    a,b,c,d = Cloth_H, Cloth_W, Bag_H, Bag_W\n",
    "    factor = Cloth_H/Cloth_W\n",
    "    if factor>1:\n",
    "        fig, ax = plt.subplots(1,1,figsize=(10*1/factor,10))\n",
    "    else:\n",
    "        fig, ax = plt.subplots(1,1,figsize=(10,10*factor))\n",
    "    \n",
    "    \n",
    "    x_zero = 0\n",
    "    for orientation in p:\n",
    "        if orientation == 'A':\n",
    "            ax.hlines(y = Cloth_H   ,xmin = x_zero   , xmax = Cloth_W  , lw = 2, color = 'g')\n",
    "            ax.hlines(y = Cloth_H-Bag_H   ,xmin = x_zero   , xmax = Cloth_W  , lw = 2, color = 'g')\n",
    "            for ii in range(Cloth_W//Bag_W+1):\n",
    "                ax.vlines(x = ii*Bag_W   ,ymin = Cloth_H-Bag_H   , ymax = Cloth_H  , lw = 2, color = 'orange')\n",
    "            Cloth_H-=Bag_H\n",
    "                \n",
    "        if orientation == 'C':\n",
    "            ax.hlines(y = Cloth_H   ,xmin = x_zero   , xmax = Cloth_W  , lw = 2, color = 'g')\n",
    "            ax.hlines(y = Cloth_H-Bag_W   ,xmin = x_zero   , xmax = Cloth_W  , lw = 2, color = 'g')\n",
    "            for ii in range(Cloth_W//Bag_H+1):\n",
    "                ax.vlines(x = ii*Bag_H   ,ymin = Cloth_H-Bag_W   , ymax = Cloth_H  , lw = 2, color = 'orange')\n",
    "            Cloth_H-=Bag_W\n",
    "            \n",
    "        if orientation == 'B':\n",
    "            ax.vlines(x = x_zero         ,ymin = 0   , ymax = Cloth_H  , lw = 2, color = 'g')\n",
    "            ax.vlines(x = x_zero+Bag_W  ,ymin = 0   ,  ymax = Cloth_H  , lw = 2, color = 'g')\n",
    "            for ii in range(Cloth_H//Bag_H+1):\n",
    "                ax.hlines(y = Cloth_H-ii*Bag_H   ,xmin = x_zero   , xmax = x_zero+Bag_W  , lw = 2, color = 'orange')\n",
    "            x_zero+=Bag_W\n",
    "            \n",
    "        if orientation == 'D':\n",
    "            ax.vlines(x = x_zero         ,ymin = 0   , ymax = Cloth_H  , lw = 2, color = 'g')\n",
    "            ax.vlines(x = x_zero+Bag_H  ,ymin = 0   ,  ymax = Cloth_H  , lw = 2, color = 'g')\n",
    "            for ii in range(Cloth_H//Bag_W+1):\n",
    "                ax.hlines(y = Cloth_H-ii*Bag_W   ,xmin = x_zero   , xmax = x_zero+Bag_H  , lw = 2, color = 'orange')\n",
    "            x_zero+=Bag_W\n",
    "            \n",
    "    # make boundries of graph\n",
    "    Cloth_H, Cloth_W, Bag_H, Bag_W = a,b,c,d\n",
    "    ax.hlines(y = 0         ,xmin = 0   , xmax = Cloth_W  , lw = 2, color = 'b')\n",
    "    ax.hlines(y = Cloth_H   ,xmin = 0   , xmax = Cloth_W  , lw = 2, color = 'b')\n",
    "    ax.vlines(x = 0         ,ymin = 0   , ymax = Cloth_H  , lw = 2, color = 'b')\n",
    "    ax.vlines(x = Cloth_W   ,ymin = 0   ,  ymax = Cloth_H  , lw = 2, color = 'b')\n",
    "    \n",
    "    \n",
    "    \n",
    "    \n",
    "    \n",
    "    \n",
    "    \n",
    "    "
   ]
  },
  {
   "cell_type": "code",
   "execution_count": 4,
   "metadata": {},
   "outputs": [
    {
     "data": {
      "image/png": "[encoded data removed]",
      "text/plain": [
       "<Figure size 720x720 with 1 Axes>"
      ]
     },
     "metadata": {
      "needs_background": "light"
     },
     "output_type": "display_data"
    }
   ],
   "source": [
    "draw(100,100,11,20,[\"A\",'C','B','D'])"
   ]
  },
  {
   "cell_type": "code",
   "execution_count": null,
   "metadata": {},
   "outputs": [],
   "source": []
  }
 ],
 "metadata": {
  "kernelspec": {
   "display_name": "Python 3",
   "language": "python",
   "name": "python3"
  },
  "language_info": {
   "codemirror_mode": {
    "name": "ipython",
    "version": 3
   },
   "file_extension": ".py",
   "mimetype": "text/x-python",
   "name": "python",
   "nbconvert_exporter": "python",
   "pygments_lexer": "ipython3",
   "version": "3.6.9"
  }
 },
 "nbformat": 4,
 "nbformat_minor": 4
}
