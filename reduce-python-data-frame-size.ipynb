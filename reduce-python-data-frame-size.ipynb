{
 "cells": [
  {
   "cell_type": "markdown",
   "metadata": {},
   "source": [
    "# Old"
   ]
  },
  {
   "cell_type": "code",
   "execution_count": null,
   "metadata": {},
   "outputs": [],
   "source": [
    "def reduce_size_of_vars():\n",
    "    # int8 = -128/127\n",
    "    # int16 = -32768/32767\n",
    "    # float16 = -32768/32767\n",
    "    # float32 = -2147483648 / 2147483647\n",
    "    # int32 = -2147483648 / 2147483647\n",
    "    global df\n",
    "    for i in df.columns:\n",
    "        aa = df[i]\n",
    "        typ = aa.dtype\n",
    "        if typ == \"int\" or typ == \"float\":\n",
    "            if (aa.min() >= -128) and (aa.max() <= 127):\n",
    "                if typ == \"int64\":\n",
    "                    df[i] = aa.astype('int8')\n",
    "                elif typ == \"float64\":\n",
    "                    df[i] = aa.astype('float16')\n",
    "            elif (aa.min() >= -32768) and (aa.max() <= 32767):\n",
    "                if typ == \"int64\":\n",
    "                    df[i] = aa.astype('int16')\n",
    "                elif typ == \"float64\":\n",
    "                    df[i] = aa.astype('float16')\n",
    "            elif (aa.min() >= -2147483648) and (aa.max() <= 2147483647):\n",
    "                if typ == \"int64\":\n",
    "                    df[i] = aa.astype('int32')\n",
    "                elif typ == \"float64\":\n",
    "                    df[i] = aa.astype('float32')\n",
    "        elif typ == 'O': # string/catagorical variables\n",
    "            print(i)\n",
    "            if (aa.nunique() / len(aa)) < 0.5:\n",
    "                df[i] = aa.astype('category')"
   ]
  },
  {
   "cell_type": "markdown",
   "metadata": {},
   "source": [
    "# New"
   ]
  },
  {
   "cell_type": "code",
   "execution_count": null,
   "metadata": {},
   "outputs": [],
   "source": [
    "import pandas as pd\n",
    "import numpy as np\n",
    "import pickle\n",
    "import os\n",
    "\n",
    "d_f = df.apply([min, max, np.dtype]).T\n",
    "for column in d_f.index:\n",
    "    a_b = d_f.loc[column]\n",
    "    if str(a_b['dtype'])[:5] == \"float\":\n",
    "        if (a_b['min'] >= -32768) and (a_b['max'] <= 32767):\n",
    "            df[column].astype(\"float16\")\n",
    "        elif (a_b['min'] >= -2147483648) and (a_b['max'] <= 2147483647):\n",
    "            df[column].astype(\"float32\")\n",
    "    if str(a_b['dtype'])[:3] == \"int\":\n",
    "        if (a_b['min'] >= -128) and (a_b['max'] <= 127):\n",
    "            df[column].astype(\"int8\")\n",
    "        elif (a_b['min'] >= -32768) and (a_b['max'] <= 32767):\n",
    "            df[column].astype(\"int16\")\n",
    "        elif (a_b['min'] >= -2147483648) and (a_b['max'] <= 2147483647):\n",
    "            df[column].astype(\"int32\")\n",
    "\n",
    "if not \"df-dtypes.pkl\" in os.listdir():\n",
    "    with open(\"df-dtypes.pkl\", \"wb\") as file:\n",
    "        pickle.dump(df.dtypes.to_dict(), file)\n",
    "else:\n",
    "    with open(input(\"the file <df-dtypes.pkl> is already exists in your current direcotry, please Enter new file name: \")+\".pkl\", \"wb\") as file:\n",
    "        pickle.dump(df.dtypes.to_dict(), file)"
   ]
  }
 ],
 "metadata": {
  "kernelspec": {
   "display_name": "Python 3",
   "language": "python",
   "name": "python3"
  },
  "language_info": {
   "codemirror_mode": {
    "name": "ipython",
    "version": 3
   },
   "file_extension": ".py",
   "mimetype": "text/x-python",
   "name": "python",
   "nbconvert_exporter": "python",
   "pygments_lexer": "ipython3",
   "version": "3.6.7"
  }
 },
 "nbformat": 4,
 "nbformat_minor": 2
}
